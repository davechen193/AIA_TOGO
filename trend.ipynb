{
 "cells": [
  {
   "cell_type": "markdown",
   "metadata": {},
   "source": [
    "# Introduction\n",
    "    1. Training data and test data have been removed the exception data\n",
    "    2. The product ID in the total csv files have different types: int & str. It needs to tranform \n",
    "       the type of int to the type of str."
   ]
  },
  {
   "cell_type": "markdown",
   "metadata": {},
   "source": [
    "# 1. Load data"
   ]
  },
  {
   "cell_type": "markdown",
   "metadata": {},
   "source": [
    "### 1.1 Load training data"
   ]
  },
  {
   "cell_type": "code",
   "execution_count": 32,
   "metadata": {
    "collapsed": true
   },
   "outputs": [],
   "source": [
    "import os\n",
    "import numpy as np\n",
    "import pandas as pd\n",
    "import datetime\n",
    "import matplotlib.pyplot as plt\n",
    "from sklearn.model_selection import train_test_split\n",
    "from sklearn.metrics import roc_auc_score\n",
    "from xgboost import XGBClassifier\n",
    "from tqdm import tqdm_notebook"
   ]
  },
  {
   "cell_type": "code",
   "execution_count": 2,
   "metadata": {},
   "outputs": [
    {
     "data": {
      "text/html": [
       "<div>\n",
       "<table border=\"1\" class=\"dataframe\">\n",
       "  <thead>\n",
       "    <tr style=\"text-align: right;\">\n",
       "      <th></th>\n",
       "      <th>FileID</th>\n",
       "      <th>Label</th>\n",
       "    </tr>\n",
       "  </thead>\n",
       "  <tbody>\n",
       "    <tr>\n",
       "      <th>0</th>\n",
       "      <td>0000e2398b12121a85166fed5fe2a3da</td>\n",
       "      <td>0</td>\n",
       "    </tr>\n",
       "    <tr>\n",
       "      <th>1</th>\n",
       "      <td>0001fe8dce14ce099aa6ca8ea5026ea7</td>\n",
       "      <td>0</td>\n",
       "    </tr>\n",
       "    <tr>\n",
       "      <th>2</th>\n",
       "      <td>00027f50019000accc492e5684efc818</td>\n",
       "      <td>0</td>\n",
       "    </tr>\n",
       "    <tr>\n",
       "      <th>3</th>\n",
       "      <td>00028c9da3573ec50db74b44310ae507</td>\n",
       "      <td>0</td>\n",
       "    </tr>\n",
       "    <tr>\n",
       "      <th>4</th>\n",
       "      <td>0003dc8130969abe688cadf5f14ea19f</td>\n",
       "      <td>0</td>\n",
       "    </tr>\n",
       "  </tbody>\n",
       "</table>\n",
       "</div>"
      ],
      "text/plain": [
       "                             FileID  Label\n",
       "0  0000e2398b12121a85166fed5fe2a3da      0\n",
       "1  0001fe8dce14ce099aa6ca8ea5026ea7      0\n",
       "2  00027f50019000accc492e5684efc818      0\n",
       "3  00028c9da3573ec50db74b44310ae507      0\n",
       "4  0003dc8130969abe688cadf5f14ea19f      0"
      ]
     },
     "execution_count": 2,
     "metadata": {},
     "output_type": "execute_result"
    }
   ],
   "source": [
    "df_train = pd.read_csv('training-set.csv', header=None)\n",
    "df_train.columns = ['FileID', 'Label']\n",
    "df_train.head()"
   ]
  },
  {
   "cell_type": "code",
   "execution_count": 3,
   "metadata": {},
   "outputs": [
    {
     "name": "stdout",
     "output_type": "stream",
     "text": [
      "len(training):  52518\n"
     ]
    }
   ],
   "source": [
    "print('len(training): ', len(df_train))"
   ]
  },
  {
   "cell_type": "markdown",
   "metadata": {},
   "source": [
    "### 1.2 Load testing data"
   ]
  },
  {
   "cell_type": "code",
   "execution_count": 51,
   "metadata": {},
   "outputs": [
    {
     "data": {
      "text/html": [
       "<div>\n",
       "<table border=\"1\" class=\"dataframe\">\n",
       "  <thead>\n",
       "    <tr style=\"text-align: right;\">\n",
       "      <th></th>\n",
       "      <th>FileID</th>\n",
       "      <th>Label</th>\n",
       "    </tr>\n",
       "  </thead>\n",
       "  <tbody>\n",
       "    <tr>\n",
       "      <th>0</th>\n",
       "      <td>00008c73ee43c15b16c26b26398c1577</td>\n",
       "      <td>0.012381</td>\n",
       "    </tr>\n",
       "    <tr>\n",
       "      <th>1</th>\n",
       "      <td>0002ded3a0b54f2ffdab0ca77a5ce2b6</td>\n",
       "      <td>0.514261</td>\n",
       "    </tr>\n",
       "    <tr>\n",
       "      <th>2</th>\n",
       "      <td>00050a9df8e13f6ab5a3d3b3e2fc6a86</td>\n",
       "      <td>0.003120</td>\n",
       "    </tr>\n",
       "    <tr>\n",
       "      <th>3</th>\n",
       "      <td>000b1aa62b95e448784b8b341de46c64</td>\n",
       "      <td>0.016599</td>\n",
       "    </tr>\n",
       "    <tr>\n",
       "      <th>4</th>\n",
       "      <td>000d9f96b5eddf04a3b7a37cb95d0a00</td>\n",
       "      <td>0.025591</td>\n",
       "    </tr>\n",
       "  </tbody>\n",
       "</table>\n",
       "</div>"
      ],
      "text/plain": [
       "                             FileID     Label\n",
       "0  00008c73ee43c15b16c26b26398c1577  0.012381\n",
       "1  0002ded3a0b54f2ffdab0ca77a5ce2b6  0.514261\n",
       "2  00050a9df8e13f6ab5a3d3b3e2fc6a86  0.003120\n",
       "3  000b1aa62b95e448784b8b341de46c64  0.016599\n",
       "4  000d9f96b5eddf04a3b7a37cb95d0a00  0.025591"
      ]
     },
     "execution_count": 51,
     "metadata": {},
     "output_type": "execute_result"
    }
   ],
   "source": [
    "df_test = pd.read_csv('testing-set.csv')\n",
    "# df_test.columns = ['FileID', 'Label']\n",
    "df_test.head()"
   ]
  },
  {
   "cell_type": "code",
   "execution_count": 119,
   "metadata": {},
   "outputs": [
    {
     "name": "stdout",
     "output_type": "stream",
     "text": [
      "len(testing):  29376\n"
     ]
    }
   ],
   "source": [
    "print('len(testing): ', len(df_test))"
   ]
  },
  {
   "cell_type": "markdown",
   "metadata": {},
   "source": [
    "### 1.3 Load query_log data"
   ]
  },
  {
   "cell_type": "code",
   "execution_count": 4,
   "metadata": {},
   "outputs": [
    {
     "data": {
      "text/plain": [
       "['0301.csv', '0302.csv', '0303.csv', '0304.csv', '0305.csv']"
      ]
     },
     "execution_count": 4,
     "metadata": {},
     "output_type": "execute_result"
    }
   ],
   "source": [
    "query_log_list = os.listdir('query_log')\n",
    "# In my computer there is a file named \".ipynb_checkpoints\" and it needs to remove it\n",
    "query_log_list.remove('.ipynb_checkpoints')\n",
    "# Sort by the date\n",
    "query_log_list.sort()\n",
    "query_log_list[:5]"
   ]
  },
  {
   "cell_type": "code",
   "execution_count": 5,
   "metadata": {},
   "outputs": [
    {
     "data": {
      "application/vnd.jupyter.widget-view+json": {
       "model_id": "f099d238f71d4bfb89bd13adedeece8d",
       "version_major": 2,
       "version_minor": 0
      },
      "text/html": [
       "<p>Failed to display Jupyter Widget of type <code>HBox</code>.</p>\n",
       "<p>\n",
       "  If you're reading this message in the Jupyter Notebook or JupyterLab Notebook, it may mean\n",
       "  that the widgets JavaScript is still loading. If this message persists, it\n",
       "  likely means that the widgets JavaScript library is either not installed or\n",
       "  not enabled. See the <a href=\"https://ipywidgets.readthedocs.io/en/stable/user_install.html\">Jupyter\n",
       "  Widgets Documentation</a> for setup instructions.\n",
       "</p>\n",
       "<p>\n",
       "  If you're reading this message in another frontend (for example, a static\n",
       "  rendering on GitHub or <a href=\"https://nbviewer.jupyter.org/\">NBViewer</a>),\n",
       "  it may mean that your frontend doesn't currently support widgets.\n",
       "</p>\n"
      ],
      "text/plain": [
       "HBox(children=(IntProgress(value=0, max=92), HTML(value='')))"
      ]
     },
     "metadata": {},
     "output_type": "display_data"
    },
    {
     "name": "stderr",
     "output_type": "stream",
     "text": [
      "/opt/conda/lib/python3.6/site-packages/IPython/core/interactiveshell.py:2728: DtypeWarning: Columns (3) have mixed types. Specify dtype option on import or set low_memory=False.\n",
      "  interactivity=interactivity, compiler=compiler, result=result)\n"
     ]
    },
    {
     "name": "stdout",
     "output_type": "stream",
     "text": [
      "\n"
     ]
    }
   ],
   "source": [
    "path = '/data/examples/trend/data/query_log/'\n",
    "df_query_log = pd.DataFrame()\n",
    "for i in tqdm_notebook(range(len(query_log_list))):\n",
    "    # get the date and store it in the column 4 of df\n",
    "    day = int(query_log_list[i].split('.')[0])\n",
    "    df = pd.read_csv(path+query_log_list[i], encoding='utf-8', header=None)\n",
    "    df[4] = day\n",
    "    # record the times\n",
    "    df[5] = 1\n",
    "    df_query_log = pd.concat([df_query_log, df], ignore_index=True)"
   ]
  },
  {
   "cell_type": "code",
   "execution_count": 6,
   "metadata": {},
   "outputs": [
    {
     "data": {
      "text/html": [
       "<div>\n",
       "<table border=\"1\" class=\"dataframe\">\n",
       "  <thead>\n",
       "    <tr style=\"text-align: right;\">\n",
       "      <th></th>\n",
       "      <th>FileID</th>\n",
       "      <th>CustomerID</th>\n",
       "      <th>QueryTs</th>\n",
       "      <th>ProductID</th>\n",
       "      <th>Day</th>\n",
       "      <th>Times</th>\n",
       "    </tr>\n",
       "  </thead>\n",
       "  <tbody>\n",
       "    <tr>\n",
       "      <th>0</th>\n",
       "      <td>dfccd8e23f0b03ec4db7a9a745ad7399</td>\n",
       "      <td>64573086fcfee53e8fa6d8f1f44101bb</td>\n",
       "      <td>1488326402</td>\n",
       "      <td>c105a0</td>\n",
       "      <td>301</td>\n",
       "      <td>1</td>\n",
       "    </tr>\n",
       "    <tr>\n",
       "      <th>1</th>\n",
       "      <td>29962f9102502ee76bb3cddb8cf8c9ad</td>\n",
       "      <td>597df153a25e8e548cbe35f6e4da9cbb</td>\n",
       "      <td>1488326403</td>\n",
       "      <td>c105a0</td>\n",
       "      <td>301</td>\n",
       "      <td>1</td>\n",
       "    </tr>\n",
       "    <tr>\n",
       "      <th>2</th>\n",
       "      <td>fa3fa642378b9d98c0e2770611b92eb3</td>\n",
       "      <td>1db24b8cc0a7ce59634629e7f292520f</td>\n",
       "      <td>1488326405</td>\n",
       "      <td>c105a0</td>\n",
       "      <td>301</td>\n",
       "      <td>1</td>\n",
       "    </tr>\n",
       "    <tr>\n",
       "      <th>3</th>\n",
       "      <td>48f90ea1af2c04677c6890db392ca088</td>\n",
       "      <td>5ca6dd0b8863069ab1efe014de82cecf</td>\n",
       "      <td>1488326411</td>\n",
       "      <td>c76d58</td>\n",
       "      <td>301</td>\n",
       "      <td>1</td>\n",
       "    </tr>\n",
       "    <tr>\n",
       "      <th>4</th>\n",
       "      <td>d0ff310c25e3bd7ae919d34dc38fb0de</td>\n",
       "      <td>5ca6dd0b8863069ab1efe014de82cecf</td>\n",
       "      <td>1488326411</td>\n",
       "      <td>c76d58</td>\n",
       "      <td>301</td>\n",
       "      <td>1</td>\n",
       "    </tr>\n",
       "  </tbody>\n",
       "</table>\n",
       "</div>"
      ],
      "text/plain": [
       "                             FileID                        CustomerID  \\\n",
       "0  dfccd8e23f0b03ec4db7a9a745ad7399  64573086fcfee53e8fa6d8f1f44101bb   \n",
       "1  29962f9102502ee76bb3cddb8cf8c9ad  597df153a25e8e548cbe35f6e4da9cbb   \n",
       "2  fa3fa642378b9d98c0e2770611b92eb3  1db24b8cc0a7ce59634629e7f292520f   \n",
       "3  48f90ea1af2c04677c6890db392ca088  5ca6dd0b8863069ab1efe014de82cecf   \n",
       "4  d0ff310c25e3bd7ae919d34dc38fb0de  5ca6dd0b8863069ab1efe014de82cecf   \n",
       "\n",
       "      QueryTs ProductID  Day  Times  \n",
       "0  1488326402    c105a0  301      1  \n",
       "1  1488326403    c105a0  301      1  \n",
       "2  1488326405    c105a0  301      1  \n",
       "3  1488326411    c76d58  301      1  \n",
       "4  1488326411    c76d58  301      1  "
      ]
     },
     "execution_count": 6,
     "metadata": {},
     "output_type": "execute_result"
    }
   ],
   "source": [
    "df_query_log.columns = ['FileID', 'CustomerID', 'QueryTs', 'ProductID', 'Day', 'Times']\n",
    "df_query_log.head()"
   ]
  },
  {
   "cell_type": "code",
   "execution_count": 7,
   "metadata": {
    "collapsed": true
   },
   "outputs": [],
   "source": [
    "# Change the type of int to the type of str\n",
    "df_query_log['ProductID'] = df_query_log['ProductID'].astype('str')"
   ]
  },
  {
   "cell_type": "code",
   "execution_count": 9,
   "metadata": {},
   "outputs": [
    {
     "data": {
      "text/html": [
       "<div>\n",
       "<table border=\"1\" class=\"dataframe\">\n",
       "  <thead>\n",
       "    <tr style=\"text-align: right;\">\n",
       "      <th></th>\n",
       "      <th>FileID</th>\n",
       "      <th>CustomerID</th>\n",
       "      <th>QueryTs</th>\n",
       "      <th>ProductID</th>\n",
       "    </tr>\n",
       "  </thead>\n",
       "  <tbody>\n",
       "    <tr>\n",
       "      <th>0</th>\n",
       "      <td>dfccd8e23f0b03ec4db7a9a745ad7399</td>\n",
       "      <td>64573086fcfee53e8fa6d8f1f44101bb</td>\n",
       "      <td>1488326402</td>\n",
       "      <td>c105a0</td>\n",
       "    </tr>\n",
       "    <tr>\n",
       "      <th>1</th>\n",
       "      <td>29962f9102502ee76bb3cddb8cf8c9ad</td>\n",
       "      <td>597df153a25e8e548cbe35f6e4da9cbb</td>\n",
       "      <td>1488326403</td>\n",
       "      <td>c105a0</td>\n",
       "    </tr>\n",
       "    <tr>\n",
       "      <th>2</th>\n",
       "      <td>fa3fa642378b9d98c0e2770611b92eb3</td>\n",
       "      <td>1db24b8cc0a7ce59634629e7f292520f</td>\n",
       "      <td>1488326405</td>\n",
       "      <td>c105a0</td>\n",
       "    </tr>\n",
       "    <tr>\n",
       "      <th>3</th>\n",
       "      <td>48f90ea1af2c04677c6890db392ca088</td>\n",
       "      <td>5ca6dd0b8863069ab1efe014de82cecf</td>\n",
       "      <td>1488326411</td>\n",
       "      <td>c76d58</td>\n",
       "    </tr>\n",
       "    <tr>\n",
       "      <th>4</th>\n",
       "      <td>d0ff310c25e3bd7ae919d34dc38fb0de</td>\n",
       "      <td>5ca6dd0b8863069ab1efe014de82cecf</td>\n",
       "      <td>1488326411</td>\n",
       "      <td>c76d58</td>\n",
       "    </tr>\n",
       "  </tbody>\n",
       "</table>\n",
       "</div>"
      ],
      "text/plain": [
       "                             FileID                        CustomerID  \\\n",
       "0  dfccd8e23f0b03ec4db7a9a745ad7399  64573086fcfee53e8fa6d8f1f44101bb   \n",
       "1  29962f9102502ee76bb3cddb8cf8c9ad  597df153a25e8e548cbe35f6e4da9cbb   \n",
       "2  fa3fa642378b9d98c0e2770611b92eb3  1db24b8cc0a7ce59634629e7f292520f   \n",
       "3  48f90ea1af2c04677c6890db392ca088  5ca6dd0b8863069ab1efe014de82cecf   \n",
       "4  d0ff310c25e3bd7ae919d34dc38fb0de  5ca6dd0b8863069ab1efe014de82cecf   \n",
       "\n",
       "      QueryTs ProductID  \n",
       "0  1488326402    c105a0  \n",
       "1  1488326403    c105a0  \n",
       "2  1488326405    c105a0  \n",
       "3  1488326411    c76d58  \n",
       "4  1488326411    c76d58  "
      ]
     },
     "execution_count": 9,
     "metadata": {},
     "output_type": "execute_result"
    }
   ],
   "source": [
    "# df_0301 = pd.read_csv('query_log/0301.csv', header=None)\n",
    "# df_0301.columns = ['FileID', 'CustomerID', 'QueryTs', 'ProductID']\n",
    "# df_0301.head()"
   ]
  },
  {
   "cell_type": "markdown",
   "metadata": {},
   "source": [
    "### 1.4 Start time & end time \n",
    "    Start time & end time which can be got from the first data in 0301.csv & the last data in \n",
    "    0531.csv"
   ]
  },
  {
   "cell_type": "code",
   "execution_count": 8,
   "metadata": {
    "collapsed": true
   },
   "outputs": [],
   "source": [
    "start_time = 1488326402\n",
    "end_time   = 1496275198"
   ]
  },
  {
   "cell_type": "markdown",
   "metadata": {},
   "source": [
    "# 2. Observe data"
   ]
  },
  {
   "cell_type": "markdown",
   "metadata": {},
   "source": [
    "### 2.1 Very Imbalance"
   ]
  },
  {
   "cell_type": "code",
   "execution_count": 9,
   "metadata": {},
   "outputs": [
    {
     "name": "stdout",
     "output_type": "stream",
     "text": [
      "In training data:\n",
      "#0:  46878 (0.8926082486)\n",
      "#1:   5640 (0.1073917514)\n"
     ]
    }
   ],
   "source": [
    "print('In training data:')\n",
    "print('#0: ', sum(df_train['Label']==0), '(%s)' % str(sum(df_train['Label']==0)/52518))\n",
    "print('#1:  ', sum(df_train['Label']==1), '(%s)' % str(sum(df_train['Label']==1)/52518))"
   ]
  },
  {
   "cell_type": "markdown",
   "metadata": {},
   "source": [
    "### 2.2 FileID vs Day"
   ]
  },
  {
   "cell_type": "code",
   "execution_count": 10,
   "metadata": {},
   "outputs": [
    {
     "data": {
      "text/html": [
       "<div>\n",
       "<table border=\"1\" class=\"dataframe\">\n",
       "  <thead>\n",
       "    <tr style=\"text-align: right;\">\n",
       "      <th>Day</th>\n",
       "      <th>301</th>\n",
       "      <th>302</th>\n",
       "      <th>303</th>\n",
       "      <th>304</th>\n",
       "      <th>305</th>\n",
       "      <th>306</th>\n",
       "      <th>307</th>\n",
       "      <th>308</th>\n",
       "      <th>309</th>\n",
       "      <th>310</th>\n",
       "      <th>...</th>\n",
       "      <th>522</th>\n",
       "      <th>523</th>\n",
       "      <th>524</th>\n",
       "      <th>525</th>\n",
       "      <th>526</th>\n",
       "      <th>527</th>\n",
       "      <th>528</th>\n",
       "      <th>529</th>\n",
       "      <th>530</th>\n",
       "      <th>531</th>\n",
       "    </tr>\n",
       "    <tr>\n",
       "      <th>FileID</th>\n",
       "      <th></th>\n",
       "      <th></th>\n",
       "      <th></th>\n",
       "      <th></th>\n",
       "      <th></th>\n",
       "      <th></th>\n",
       "      <th></th>\n",
       "      <th></th>\n",
       "      <th></th>\n",
       "      <th></th>\n",
       "      <th></th>\n",
       "      <th></th>\n",
       "      <th></th>\n",
       "      <th></th>\n",
       "      <th></th>\n",
       "      <th></th>\n",
       "      <th></th>\n",
       "      <th></th>\n",
       "      <th></th>\n",
       "      <th></th>\n",
       "      <th></th>\n",
       "    </tr>\n",
       "  </thead>\n",
       "  <tbody>\n",
       "    <tr>\n",
       "      <th>00008c73ee43c15b16c26b26398c1577</th>\n",
       "      <td>0.0</td>\n",
       "      <td>0.0</td>\n",
       "      <td>0.0</td>\n",
       "      <td>0.0</td>\n",
       "      <td>0.0</td>\n",
       "      <td>0.0</td>\n",
       "      <td>0.0</td>\n",
       "      <td>0.0</td>\n",
       "      <td>0.0</td>\n",
       "      <td>0.0</td>\n",
       "      <td>...</td>\n",
       "      <td>0.0</td>\n",
       "      <td>0.0</td>\n",
       "      <td>0.0</td>\n",
       "      <td>0.0</td>\n",
       "      <td>0.0</td>\n",
       "      <td>0.0</td>\n",
       "      <td>0.0</td>\n",
       "      <td>0.0</td>\n",
       "      <td>0.0</td>\n",
       "      <td>0.0</td>\n",
       "    </tr>\n",
       "    <tr>\n",
       "      <th>0000e2398b12121a85166fed5fe2a3da</th>\n",
       "      <td>0.0</td>\n",
       "      <td>0.0</td>\n",
       "      <td>0.0</td>\n",
       "      <td>43.0</td>\n",
       "      <td>3.0</td>\n",
       "      <td>0.0</td>\n",
       "      <td>0.0</td>\n",
       "      <td>1.0</td>\n",
       "      <td>0.0</td>\n",
       "      <td>0.0</td>\n",
       "      <td>...</td>\n",
       "      <td>0.0</td>\n",
       "      <td>0.0</td>\n",
       "      <td>0.0</td>\n",
       "      <td>0.0</td>\n",
       "      <td>0.0</td>\n",
       "      <td>0.0</td>\n",
       "      <td>0.0</td>\n",
       "      <td>0.0</td>\n",
       "      <td>0.0</td>\n",
       "      <td>0.0</td>\n",
       "    </tr>\n",
       "    <tr>\n",
       "      <th>0001fe8dce14ce099aa6ca8ea5026ea7</th>\n",
       "      <td>0.0</td>\n",
       "      <td>0.0</td>\n",
       "      <td>0.0</td>\n",
       "      <td>0.0</td>\n",
       "      <td>0.0</td>\n",
       "      <td>0.0</td>\n",
       "      <td>0.0</td>\n",
       "      <td>0.0</td>\n",
       "      <td>0.0</td>\n",
       "      <td>0.0</td>\n",
       "      <td>...</td>\n",
       "      <td>0.0</td>\n",
       "      <td>0.0</td>\n",
       "      <td>0.0</td>\n",
       "      <td>0.0</td>\n",
       "      <td>0.0</td>\n",
       "      <td>0.0</td>\n",
       "      <td>0.0</td>\n",
       "      <td>0.0</td>\n",
       "      <td>0.0</td>\n",
       "      <td>0.0</td>\n",
       "    </tr>\n",
       "    <tr>\n",
       "      <th>00027f50019000accc492e5684efc818</th>\n",
       "      <td>0.0</td>\n",
       "      <td>0.0</td>\n",
       "      <td>0.0</td>\n",
       "      <td>0.0</td>\n",
       "      <td>0.0</td>\n",
       "      <td>0.0</td>\n",
       "      <td>0.0</td>\n",
       "      <td>0.0</td>\n",
       "      <td>0.0</td>\n",
       "      <td>0.0</td>\n",
       "      <td>...</td>\n",
       "      <td>0.0</td>\n",
       "      <td>0.0</td>\n",
       "      <td>0.0</td>\n",
       "      <td>0.0</td>\n",
       "      <td>0.0</td>\n",
       "      <td>0.0</td>\n",
       "      <td>0.0</td>\n",
       "      <td>0.0</td>\n",
       "      <td>0.0</td>\n",
       "      <td>0.0</td>\n",
       "    </tr>\n",
       "    <tr>\n",
       "      <th>00028c9da3573ec50db74b44310ae507</th>\n",
       "      <td>0.0</td>\n",
       "      <td>0.0</td>\n",
       "      <td>0.0</td>\n",
       "      <td>0.0</td>\n",
       "      <td>0.0</td>\n",
       "      <td>0.0</td>\n",
       "      <td>0.0</td>\n",
       "      <td>0.0</td>\n",
       "      <td>0.0</td>\n",
       "      <td>0.0</td>\n",
       "      <td>...</td>\n",
       "      <td>0.0</td>\n",
       "      <td>0.0</td>\n",
       "      <td>0.0</td>\n",
       "      <td>0.0</td>\n",
       "      <td>0.0</td>\n",
       "      <td>0.0</td>\n",
       "      <td>0.0</td>\n",
       "      <td>0.0</td>\n",
       "      <td>0.0</td>\n",
       "      <td>0.0</td>\n",
       "    </tr>\n",
       "  </tbody>\n",
       "</table>\n",
       "<p>5 rows × 92 columns</p>\n",
       "</div>"
      ],
      "text/plain": [
       "Day                               301  302  303   304  305  306  307  308  \\\n",
       "FileID                                                                      \n",
       "00008c73ee43c15b16c26b26398c1577  0.0  0.0  0.0   0.0  0.0  0.0  0.0  0.0   \n",
       "0000e2398b12121a85166fed5fe2a3da  0.0  0.0  0.0  43.0  3.0  0.0  0.0  1.0   \n",
       "0001fe8dce14ce099aa6ca8ea5026ea7  0.0  0.0  0.0   0.0  0.0  0.0  0.0  0.0   \n",
       "00027f50019000accc492e5684efc818  0.0  0.0  0.0   0.0  0.0  0.0  0.0  0.0   \n",
       "00028c9da3573ec50db74b44310ae507  0.0  0.0  0.0   0.0  0.0  0.0  0.0  0.0   \n",
       "\n",
       "Day                               309  310 ...   522  523  524  525  526  527  \\\n",
       "FileID                                     ...                                  \n",
       "00008c73ee43c15b16c26b26398c1577  0.0  0.0 ...   0.0  0.0  0.0  0.0  0.0  0.0   \n",
       "0000e2398b12121a85166fed5fe2a3da  0.0  0.0 ...   0.0  0.0  0.0  0.0  0.0  0.0   \n",
       "0001fe8dce14ce099aa6ca8ea5026ea7  0.0  0.0 ...   0.0  0.0  0.0  0.0  0.0  0.0   \n",
       "00027f50019000accc492e5684efc818  0.0  0.0 ...   0.0  0.0  0.0  0.0  0.0  0.0   \n",
       "00028c9da3573ec50db74b44310ae507  0.0  0.0 ...   0.0  0.0  0.0  0.0  0.0  0.0   \n",
       "\n",
       "Day                               528  529  530  531  \n",
       "FileID                                                \n",
       "00008c73ee43c15b16c26b26398c1577  0.0  0.0  0.0  0.0  \n",
       "0000e2398b12121a85166fed5fe2a3da  0.0  0.0  0.0  0.0  \n",
       "0001fe8dce14ce099aa6ca8ea5026ea7  0.0  0.0  0.0  0.0  \n",
       "00027f50019000accc492e5684efc818  0.0  0.0  0.0  0.0  \n",
       "00028c9da3573ec50db74b44310ae507  0.0  0.0  0.0  0.0  \n",
       "\n",
       "[5 rows x 92 columns]"
      ]
     },
     "execution_count": 10,
     "metadata": {},
     "output_type": "execute_result"
    }
   ],
   "source": [
    "df_FileID_Day = df_query_log.pivot_table(values='Times', index=['FileID'], columns='Day', aggfunc='sum')\n",
    "df_FileID_Day = df_FileID_Day.fillna(0)\n",
    "df_FileID_Day.head()"
   ]
  },
  {
   "cell_type": "code",
   "execution_count": 11,
   "metadata": {
    "collapsed": true
   },
   "outputs": [],
   "source": [
    "df_FileID_Day_features = pd.DataFrame(columns=['Total(Day)', 'Max(Day)', 'Min(Day)', 'Mean(Day)', 'Mean(Nonzero Day)', 'Std(Day)'])\n",
    "df_FileID_Day_features['Total(Day)'] = df_FileID_Day.sum(axis=1)"
   ]
  },
  {
   "cell_type": "markdown",
   "metadata": {},
   "source": [
    "#### Every files have been opened at least once. So we can find the max, min, mean, std in 0301 ~ 0531, and the mean in the days when the files have been opened."
   ]
  },
  {
   "cell_type": "code",
   "execution_count": 12,
   "metadata": {},
   "outputs": [
    {
     "data": {
      "text/plain": [
       "0"
      ]
     },
     "execution_count": 12,
     "metadata": {},
     "output_type": "execute_result"
    }
   ],
   "source": [
    "(df_FileID_Day_features['Total(Day)'] == 0).sum()"
   ]
  },
  {
   "cell_type": "markdown",
   "metadata": {},
   "source": [
    "#### There are 50 files are only opened once."
   ]
  },
  {
   "cell_type": "code",
   "execution_count": 13,
   "metadata": {},
   "outputs": [
    {
     "data": {
      "text/plain": [
       "50"
      ]
     },
     "execution_count": 13,
     "metadata": {},
     "output_type": "execute_result"
    }
   ],
   "source": [
    "(df_FileID_Day_features['Total(Day)'] == 1).sum()"
   ]
  },
  {
   "cell_type": "code",
   "execution_count": 14,
   "metadata": {},
   "outputs": [
    {
     "data": {
      "text/html": [
       "<div>\n",
       "<table border=\"1\" class=\"dataframe\">\n",
       "  <thead>\n",
       "    <tr style=\"text-align: right;\">\n",
       "      <th></th>\n",
       "      <th>Total(Day)</th>\n",
       "      <th>Max(Day)</th>\n",
       "      <th>Min(Day)</th>\n",
       "      <th>Mean(Day)</th>\n",
       "      <th>Mean(Nonzero Day)</th>\n",
       "      <th>Std(Day)</th>\n",
       "    </tr>\n",
       "    <tr>\n",
       "      <th>FileID</th>\n",
       "      <th></th>\n",
       "      <th></th>\n",
       "      <th></th>\n",
       "      <th></th>\n",
       "      <th></th>\n",
       "      <th></th>\n",
       "    </tr>\n",
       "  </thead>\n",
       "  <tbody>\n",
       "    <tr>\n",
       "      <th>00008c73ee43c15b16c26b26398c1577</th>\n",
       "      <td>134.0</td>\n",
       "      <td>50.0</td>\n",
       "      <td>0.0</td>\n",
       "      <td>1.456522</td>\n",
       "      <td>22.333333</td>\n",
       "      <td>6.625646</td>\n",
       "    </tr>\n",
       "    <tr>\n",
       "      <th>0000e2398b12121a85166fed5fe2a3da</th>\n",
       "      <td>47.0</td>\n",
       "      <td>43.0</td>\n",
       "      <td>0.0</td>\n",
       "      <td>0.510870</td>\n",
       "      <td>15.666667</td>\n",
       "      <td>4.490514</td>\n",
       "    </tr>\n",
       "    <tr>\n",
       "      <th>0001fe8dce14ce099aa6ca8ea5026ea7</th>\n",
       "      <td>234.0</td>\n",
       "      <td>66.0</td>\n",
       "      <td>0.0</td>\n",
       "      <td>2.543478</td>\n",
       "      <td>39.000000</td>\n",
       "      <td>10.848014</td>\n",
       "    </tr>\n",
       "    <tr>\n",
       "      <th>00027f50019000accc492e5684efc818</th>\n",
       "      <td>378.0</td>\n",
       "      <td>253.0</td>\n",
       "      <td>0.0</td>\n",
       "      <td>4.108696</td>\n",
       "      <td>75.600000</td>\n",
       "      <td>27.685223</td>\n",
       "    </tr>\n",
       "    <tr>\n",
       "      <th>00028c9da3573ec50db74b44310ae507</th>\n",
       "      <td>368.0</td>\n",
       "      <td>339.0</td>\n",
       "      <td>0.0</td>\n",
       "      <td>4.000000</td>\n",
       "      <td>61.333333</td>\n",
       "      <td>35.337307</td>\n",
       "    </tr>\n",
       "  </tbody>\n",
       "</table>\n",
       "</div>"
      ],
      "text/plain": [
       "                                  Total(Day)  Max(Day)  Min(Day)  Mean(Day)  \\\n",
       "FileID                                                                        \n",
       "00008c73ee43c15b16c26b26398c1577       134.0      50.0       0.0   1.456522   \n",
       "0000e2398b12121a85166fed5fe2a3da        47.0      43.0       0.0   0.510870   \n",
       "0001fe8dce14ce099aa6ca8ea5026ea7       234.0      66.0       0.0   2.543478   \n",
       "00027f50019000accc492e5684efc818       378.0     253.0       0.0   4.108696   \n",
       "00028c9da3573ec50db74b44310ae507       368.0     339.0       0.0   4.000000   \n",
       "\n",
       "                                  Mean(Nonzero Day)   Std(Day)  \n",
       "FileID                                                          \n",
       "00008c73ee43c15b16c26b26398c1577          22.333333   6.625646  \n",
       "0000e2398b12121a85166fed5fe2a3da          15.666667   4.490514  \n",
       "0001fe8dce14ce099aa6ca8ea5026ea7          39.000000  10.848014  \n",
       "00027f50019000accc492e5684efc818          75.600000  27.685223  \n",
       "00028c9da3573ec50db74b44310ae507          61.333333  35.337307  "
      ]
     },
     "execution_count": 14,
     "metadata": {},
     "output_type": "execute_result"
    }
   ],
   "source": [
    "df_FileID_Day_features['Max(Day)'] = df_FileID_Day.max(axis=1)\n",
    "df_FileID_Day_features['Min(Day)'] = df_FileID_Day.min(axis=1)\n",
    "df_FileID_Day_features['Mean(Day)'] = df_FileID_Day.mean(axis=1)\n",
    "df_FileID_Day_features['Mean(Nonzero Day)'] = df_FileID_Day_features['Total(Day)'] / (df_FileID_Day > 0).sum(axis=1)\n",
    "df_FileID_Day_features['Std(Day)'] = df_FileID_Day.std(axis=1)\n",
    "# df_FileID_Day_features['Std(Nonzero Day)'] = (df_FileID_Day[df_FileID_Day.sum()]).std(axis=1)\n",
    "df_FileID_Day_features.head()"
   ]
  },
  {
   "cell_type": "markdown",
   "metadata": {},
   "source": [
    "#### df_FileID_Day_features has no NaN"
   ]
  },
  {
   "cell_type": "code",
   "execution_count": 15,
   "metadata": {},
   "outputs": [
    {
     "data": {
      "text/plain": [
       "Total(Day)           0\n",
       "Max(Day)             0\n",
       "Min(Day)             0\n",
       "Mean(Day)            0\n",
       "Mean(Nonzero Day)    0\n",
       "Std(Day)             0\n",
       "dtype: int64"
      ]
     },
     "execution_count": 15,
     "metadata": {},
     "output_type": "execute_result"
    }
   ],
   "source": [
    "np.isnan(df_FileID_Day_features).sum(axis=0)"
   ]
  },
  {
   "cell_type": "markdown",
   "metadata": {},
   "source": [
    "### 2.4 FileID vs ProductID"
   ]
  },
  {
   "cell_type": "code",
   "execution_count": 16,
   "metadata": {},
   "outputs": [
    {
     "data": {
      "text/html": [
       "<div>\n",
       "<table border=\"1\" class=\"dataframe\">\n",
       "  <thead>\n",
       "    <tr style=\"text-align: right;\">\n",
       "      <th>ProductID</th>\n",
       "      <th>0374c4</th>\n",
       "      <th>055649</th>\n",
       "      <th>05b409</th>\n",
       "      <th>0cdb7a</th>\n",
       "      <th>20f8a5</th>\n",
       "      <th>218578</th>\n",
       "      <th>262880</th>\n",
       "      <th>26a5d0</th>\n",
       "      <th>3c2be6</th>\n",
       "      <th>3ea8c3</th>\n",
       "      <th>...</th>\n",
       "      <th>a310bb</th>\n",
       "      <th>aaa9c8</th>\n",
       "      <th>b93794</th>\n",
       "      <th>c105a0</th>\n",
       "      <th>c76d58</th>\n",
       "      <th>cc3a6a</th>\n",
       "      <th>d465fc</th>\n",
       "      <th>dd8d4a</th>\n",
       "      <th>e47f04</th>\n",
       "      <th>fec24f</th>\n",
       "    </tr>\n",
       "    <tr>\n",
       "      <th>FileID</th>\n",
       "      <th></th>\n",
       "      <th></th>\n",
       "      <th></th>\n",
       "      <th></th>\n",
       "      <th></th>\n",
       "      <th></th>\n",
       "      <th></th>\n",
       "      <th></th>\n",
       "      <th></th>\n",
       "      <th></th>\n",
       "      <th></th>\n",
       "      <th></th>\n",
       "      <th></th>\n",
       "      <th></th>\n",
       "      <th></th>\n",
       "      <th></th>\n",
       "      <th></th>\n",
       "      <th></th>\n",
       "      <th></th>\n",
       "      <th></th>\n",
       "      <th></th>\n",
       "    </tr>\n",
       "  </thead>\n",
       "  <tbody>\n",
       "    <tr>\n",
       "      <th>00008c73ee43c15b16c26b26398c1577</th>\n",
       "      <td>0.0</td>\n",
       "      <td>0.0</td>\n",
       "      <td>0.0</td>\n",
       "      <td>0.0</td>\n",
       "      <td>0.0</td>\n",
       "      <td>0.0</td>\n",
       "      <td>0.0</td>\n",
       "      <td>0.0</td>\n",
       "      <td>0.0</td>\n",
       "      <td>13.0</td>\n",
       "      <td>...</td>\n",
       "      <td>0.0</td>\n",
       "      <td>0.0</td>\n",
       "      <td>0.0</td>\n",
       "      <td>1.0</td>\n",
       "      <td>0.0</td>\n",
       "      <td>0.0</td>\n",
       "      <td>0.0</td>\n",
       "      <td>0.0</td>\n",
       "      <td>83.0</td>\n",
       "      <td>0.0</td>\n",
       "    </tr>\n",
       "    <tr>\n",
       "      <th>0000e2398b12121a85166fed5fe2a3da</th>\n",
       "      <td>0.0</td>\n",
       "      <td>38.0</td>\n",
       "      <td>0.0</td>\n",
       "      <td>0.0</td>\n",
       "      <td>0.0</td>\n",
       "      <td>0.0</td>\n",
       "      <td>0.0</td>\n",
       "      <td>0.0</td>\n",
       "      <td>0.0</td>\n",
       "      <td>0.0</td>\n",
       "      <td>...</td>\n",
       "      <td>0.0</td>\n",
       "      <td>0.0</td>\n",
       "      <td>0.0</td>\n",
       "      <td>0.0</td>\n",
       "      <td>0.0</td>\n",
       "      <td>0.0</td>\n",
       "      <td>0.0</td>\n",
       "      <td>0.0</td>\n",
       "      <td>0.0</td>\n",
       "      <td>0.0</td>\n",
       "    </tr>\n",
       "    <tr>\n",
       "      <th>0001fe8dce14ce099aa6ca8ea5026ea7</th>\n",
       "      <td>0.0</td>\n",
       "      <td>44.0</td>\n",
       "      <td>0.0</td>\n",
       "      <td>0.0</td>\n",
       "      <td>0.0</td>\n",
       "      <td>0.0</td>\n",
       "      <td>0.0</td>\n",
       "      <td>0.0</td>\n",
       "      <td>0.0</td>\n",
       "      <td>0.0</td>\n",
       "      <td>...</td>\n",
       "      <td>0.0</td>\n",
       "      <td>0.0</td>\n",
       "      <td>0.0</td>\n",
       "      <td>0.0</td>\n",
       "      <td>45.0</td>\n",
       "      <td>0.0</td>\n",
       "      <td>0.0</td>\n",
       "      <td>0.0</td>\n",
       "      <td>0.0</td>\n",
       "      <td>0.0</td>\n",
       "    </tr>\n",
       "    <tr>\n",
       "      <th>00027f50019000accc492e5684efc818</th>\n",
       "      <td>0.0</td>\n",
       "      <td>11.0</td>\n",
       "      <td>0.0</td>\n",
       "      <td>0.0</td>\n",
       "      <td>0.0</td>\n",
       "      <td>0.0</td>\n",
       "      <td>0.0</td>\n",
       "      <td>0.0</td>\n",
       "      <td>0.0</td>\n",
       "      <td>117.0</td>\n",
       "      <td>...</td>\n",
       "      <td>0.0</td>\n",
       "      <td>0.0</td>\n",
       "      <td>0.0</td>\n",
       "      <td>14.0</td>\n",
       "      <td>0.0</td>\n",
       "      <td>0.0</td>\n",
       "      <td>0.0</td>\n",
       "      <td>0.0</td>\n",
       "      <td>0.0</td>\n",
       "      <td>0.0</td>\n",
       "    </tr>\n",
       "    <tr>\n",
       "      <th>00028c9da3573ec50db74b44310ae507</th>\n",
       "      <td>0.0</td>\n",
       "      <td>3.0</td>\n",
       "      <td>0.0</td>\n",
       "      <td>0.0</td>\n",
       "      <td>0.0</td>\n",
       "      <td>0.0</td>\n",
       "      <td>0.0</td>\n",
       "      <td>0.0</td>\n",
       "      <td>0.0</td>\n",
       "      <td>64.0</td>\n",
       "      <td>...</td>\n",
       "      <td>0.0</td>\n",
       "      <td>0.0</td>\n",
       "      <td>0.0</td>\n",
       "      <td>0.0</td>\n",
       "      <td>0.0</td>\n",
       "      <td>0.0</td>\n",
       "      <td>0.0</td>\n",
       "      <td>0.0</td>\n",
       "      <td>0.0</td>\n",
       "      <td>0.0</td>\n",
       "    </tr>\n",
       "  </tbody>\n",
       "</table>\n",
       "<p>5 rows × 29 columns</p>\n",
       "</div>"
      ],
      "text/plain": [
       "ProductID                         0374c4  055649  05b409  0cdb7a  20f8a5  \\\n",
       "FileID                                                                     \n",
       "00008c73ee43c15b16c26b26398c1577     0.0     0.0     0.0     0.0     0.0   \n",
       "0000e2398b12121a85166fed5fe2a3da     0.0    38.0     0.0     0.0     0.0   \n",
       "0001fe8dce14ce099aa6ca8ea5026ea7     0.0    44.0     0.0     0.0     0.0   \n",
       "00027f50019000accc492e5684efc818     0.0    11.0     0.0     0.0     0.0   \n",
       "00028c9da3573ec50db74b44310ae507     0.0     3.0     0.0     0.0     0.0   \n",
       "\n",
       "ProductID                         218578  262880  26a5d0  3c2be6  3ea8c3  \\\n",
       "FileID                                                                     \n",
       "00008c73ee43c15b16c26b26398c1577     0.0     0.0     0.0     0.0    13.0   \n",
       "0000e2398b12121a85166fed5fe2a3da     0.0     0.0     0.0     0.0     0.0   \n",
       "0001fe8dce14ce099aa6ca8ea5026ea7     0.0     0.0     0.0     0.0     0.0   \n",
       "00027f50019000accc492e5684efc818     0.0     0.0     0.0     0.0   117.0   \n",
       "00028c9da3573ec50db74b44310ae507     0.0     0.0     0.0     0.0    64.0   \n",
       "\n",
       "ProductID                          ...    a310bb  aaa9c8  b93794  c105a0  \\\n",
       "FileID                             ...                                     \n",
       "00008c73ee43c15b16c26b26398c1577   ...       0.0     0.0     0.0     1.0   \n",
       "0000e2398b12121a85166fed5fe2a3da   ...       0.0     0.0     0.0     0.0   \n",
       "0001fe8dce14ce099aa6ca8ea5026ea7   ...       0.0     0.0     0.0     0.0   \n",
       "00027f50019000accc492e5684efc818   ...       0.0     0.0     0.0    14.0   \n",
       "00028c9da3573ec50db74b44310ae507   ...       0.0     0.0     0.0     0.0   \n",
       "\n",
       "ProductID                         c76d58  cc3a6a  d465fc  dd8d4a  e47f04  \\\n",
       "FileID                                                                     \n",
       "00008c73ee43c15b16c26b26398c1577     0.0     0.0     0.0     0.0    83.0   \n",
       "0000e2398b12121a85166fed5fe2a3da     0.0     0.0     0.0     0.0     0.0   \n",
       "0001fe8dce14ce099aa6ca8ea5026ea7    45.0     0.0     0.0     0.0     0.0   \n",
       "00027f50019000accc492e5684efc818     0.0     0.0     0.0     0.0     0.0   \n",
       "00028c9da3573ec50db74b44310ae507     0.0     0.0     0.0     0.0     0.0   \n",
       "\n",
       "ProductID                         fec24f  \n",
       "FileID                                    \n",
       "00008c73ee43c15b16c26b26398c1577     0.0  \n",
       "0000e2398b12121a85166fed5fe2a3da     0.0  \n",
       "0001fe8dce14ce099aa6ca8ea5026ea7     0.0  \n",
       "00027f50019000accc492e5684efc818     0.0  \n",
       "00028c9da3573ec50db74b44310ae507     0.0  \n",
       "\n",
       "[5 rows x 29 columns]"
      ]
     },
     "execution_count": 16,
     "metadata": {},
     "output_type": "execute_result"
    }
   ],
   "source": [
    "df_FileID_ProductID = df_query_log.pivot_table(values='Times', index=['FileID'], columns='ProductID', aggfunc='sum')\n",
    "df_FileID_ProductID = df_FileID_ProductID.fillna(0)\n",
    "df_FileID_ProductID.head()"
   ]
  },
  {
   "cell_type": "code",
   "execution_count": 17,
   "metadata": {
    "collapsed": true
   },
   "outputs": [],
   "source": [
    "df_FileID_ProductID_features = pd.DataFrame(columns=['Total(ProductID)', 'Max(ProductID)', 'Min(ProductID)', 'Mean(ProductID)', 'Std(ProductID)'])\n",
    "df_FileID_ProductID_features['Total(ProductID)'] = df_FileID_ProductID.sum(axis=1)"
   ]
  },
  {
   "cell_type": "markdown",
   "metadata": {},
   "source": [
    "#### Every files have been opened at least once. So we can find the max, min, mean, std about all ProductID."
   ]
  },
  {
   "cell_type": "code",
   "execution_count": 18,
   "metadata": {},
   "outputs": [
    {
     "data": {
      "text/plain": [
       "0"
      ]
     },
     "execution_count": 18,
     "metadata": {},
     "output_type": "execute_result"
    }
   ],
   "source": [
    "(df_FileID_ProductID_features['Total(ProductID)'] == 0).sum()"
   ]
  },
  {
   "cell_type": "code",
   "execution_count": 19,
   "metadata": {},
   "outputs": [
    {
     "data": {
      "text/html": [
       "<div>\n",
       "<table border=\"1\" class=\"dataframe\">\n",
       "  <thead>\n",
       "    <tr style=\"text-align: right;\">\n",
       "      <th></th>\n",
       "      <th>Total(ProductID)</th>\n",
       "      <th>Max(ProductID)</th>\n",
       "      <th>Min(ProductID)</th>\n",
       "      <th>Mean(ProductID)</th>\n",
       "      <th>Std(ProductID)</th>\n",
       "    </tr>\n",
       "    <tr>\n",
       "      <th>FileID</th>\n",
       "      <th></th>\n",
       "      <th></th>\n",
       "      <th></th>\n",
       "      <th></th>\n",
       "      <th></th>\n",
       "    </tr>\n",
       "  </thead>\n",
       "  <tbody>\n",
       "    <tr>\n",
       "      <th>00008c73ee43c15b16c26b26398c1577</th>\n",
       "      <td>134.0</td>\n",
       "      <td>83.0</td>\n",
       "      <td>0.0</td>\n",
       "      <td>4.620690</td>\n",
       "      <td>15.951744</td>\n",
       "    </tr>\n",
       "    <tr>\n",
       "      <th>0000e2398b12121a85166fed5fe2a3da</th>\n",
       "      <td>47.0</td>\n",
       "      <td>38.0</td>\n",
       "      <td>0.0</td>\n",
       "      <td>1.620690</td>\n",
       "      <td>7.193319</td>\n",
       "    </tr>\n",
       "    <tr>\n",
       "      <th>0001fe8dce14ce099aa6ca8ea5026ea7</th>\n",
       "      <td>234.0</td>\n",
       "      <td>141.0</td>\n",
       "      <td>0.0</td>\n",
       "      <td>8.068966</td>\n",
       "      <td>28.011389</td>\n",
       "    </tr>\n",
       "    <tr>\n",
       "      <th>00027f50019000accc492e5684efc818</th>\n",
       "      <td>378.0</td>\n",
       "      <td>146.0</td>\n",
       "      <td>0.0</td>\n",
       "      <td>13.034483</td>\n",
       "      <td>36.908654</td>\n",
       "    </tr>\n",
       "    <tr>\n",
       "      <th>00028c9da3573ec50db74b44310ae507</th>\n",
       "      <td>368.0</td>\n",
       "      <td>290.0</td>\n",
       "      <td>0.0</td>\n",
       "      <td>12.689655</td>\n",
       "      <td>54.644372</td>\n",
       "    </tr>\n",
       "  </tbody>\n",
       "</table>\n",
       "</div>"
      ],
      "text/plain": [
       "                                  Total(ProductID)  Max(ProductID)  \\\n",
       "FileID                                                               \n",
       "00008c73ee43c15b16c26b26398c1577             134.0            83.0   \n",
       "0000e2398b12121a85166fed5fe2a3da              47.0            38.0   \n",
       "0001fe8dce14ce099aa6ca8ea5026ea7             234.0           141.0   \n",
       "00027f50019000accc492e5684efc818             378.0           146.0   \n",
       "00028c9da3573ec50db74b44310ae507             368.0           290.0   \n",
       "\n",
       "                                  Min(ProductID)  Mean(ProductID)  \\\n",
       "FileID                                                              \n",
       "00008c73ee43c15b16c26b26398c1577             0.0         4.620690   \n",
       "0000e2398b12121a85166fed5fe2a3da             0.0         1.620690   \n",
       "0001fe8dce14ce099aa6ca8ea5026ea7             0.0         8.068966   \n",
       "00027f50019000accc492e5684efc818             0.0        13.034483   \n",
       "00028c9da3573ec50db74b44310ae507             0.0        12.689655   \n",
       "\n",
       "                                  Std(ProductID)  \n",
       "FileID                                            \n",
       "00008c73ee43c15b16c26b26398c1577       15.951744  \n",
       "0000e2398b12121a85166fed5fe2a3da        7.193319  \n",
       "0001fe8dce14ce099aa6ca8ea5026ea7       28.011389  \n",
       "00027f50019000accc492e5684efc818       36.908654  \n",
       "00028c9da3573ec50db74b44310ae507       54.644372  "
      ]
     },
     "execution_count": 19,
     "metadata": {},
     "output_type": "execute_result"
    }
   ],
   "source": [
    "df_FileID_ProductID_features['Max(ProductID)'] = df_FileID_ProductID.max(axis=1)\n",
    "df_FileID_ProductID_features['Min(ProductID)'] = df_FileID_ProductID.min(axis=1)\n",
    "df_FileID_ProductID_features['Mean(ProductID)'] = df_FileID_ProductID.mean(axis=1)\n",
    "df_FileID_ProductID_features['Std(ProductID)'] = df_FileID_ProductID.std(axis=1)\n",
    "df_FileID_ProductID_features.head()"
   ]
  },
  {
   "cell_type": "markdown",
   "metadata": {},
   "source": [
    "#### df_FileID_ProductID_features has no NaN"
   ]
  },
  {
   "cell_type": "code",
   "execution_count": 20,
   "metadata": {},
   "outputs": [
    {
     "data": {
      "text/plain": [
       "Total(ProductID)    0\n",
       "Max(ProductID)      0\n",
       "Min(ProductID)      0\n",
       "Mean(ProductID)     0\n",
       "Std(ProductID)      0\n",
       "dtype: int64"
      ]
     },
     "execution_count": 20,
     "metadata": {},
     "output_type": "execute_result"
    }
   ],
   "source": [
    "np.isnan(df_FileID_ProductID_features).sum(axis=0)"
   ]
  },
  {
   "cell_type": "markdown",
   "metadata": {},
   "source": [
    "### 2.5 Mean & std of time interval"
   ]
  },
  {
   "cell_type": "code",
   "execution_count": 21,
   "metadata": {
    "collapsed": true
   },
   "outputs": [],
   "source": [
    "def time_interval_mean(list):\n",
    "    if len(list) == 1:\n",
    "        # There are 50 files were opened once.\n",
    "        # If a file was only oppened once, we can't get the time interval. Assign the total seconds to it.\n",
    "        return end_time - start_time\n",
    "    return np.mean(np.diff(list))"
   ]
  },
  {
   "cell_type": "code",
   "execution_count": 22,
   "metadata": {
    "collapsed": true
   },
   "outputs": [],
   "source": [
    "def time_interval_std(list):\n",
    "    if len(list) == 1:\n",
    "        # If a file was only oppened once, we can't get the time interval. Suppose the time interval\n",
    "        # is the total seconds, and these files were opened twice in that time interval, so we can \n",
    "        # assign the \n",
    "        # std = [(start_time - mean)^2 + (end_time - mean)^2] / (2 - 1) = (start_time - end_time)^2 / 2\n",
    "        # to it\n",
    "        return (start_time - end_time)**2/2\n",
    "    return np.std(np.diff(list))"
   ]
  },
  {
   "cell_type": "markdown",
   "metadata": {},
   "source": [
    "#### Calculate the time interval "
   ]
  },
  {
   "cell_type": "code",
   "execution_count": 23,
   "metadata": {},
   "outputs": [
    {
     "data": {
      "text/html": [
       "<div>\n",
       "<table border=\"1\" class=\"dataframe\">\n",
       "  <thead>\n",
       "    <tr style=\"text-align: right;\">\n",
       "      <th></th>\n",
       "      <th>time_interval_mean</th>\n",
       "      <th>time_interval_std</th>\n",
       "    </tr>\n",
       "    <tr>\n",
       "      <th>FileID</th>\n",
       "      <th></th>\n",
       "      <th></th>\n",
       "    </tr>\n",
       "  </thead>\n",
       "  <tbody>\n",
       "    <tr>\n",
       "      <th>00008c73ee43c15b16c26b26398c1577</th>\n",
       "      <td>3655.233083</td>\n",
       "      <td>15011.807565</td>\n",
       "    </tr>\n",
       "    <tr>\n",
       "      <th>0000e2398b12121a85166fed5fe2a3da</th>\n",
       "      <td>8116.000000</td>\n",
       "      <td>43395.408067</td>\n",
       "    </tr>\n",
       "    <tr>\n",
       "      <th>0001fe8dce14ce099aa6ca8ea5026ea7</th>\n",
       "      <td>1965.403433</td>\n",
       "      <td>11515.073217</td>\n",
       "    </tr>\n",
       "    <tr>\n",
       "      <th>00027f50019000accc492e5684efc818</th>\n",
       "      <td>828.177719</td>\n",
       "      <td>10732.170012</td>\n",
       "    </tr>\n",
       "    <tr>\n",
       "      <th>00028c9da3573ec50db74b44310ae507</th>\n",
       "      <td>1319.098093</td>\n",
       "      <td>9324.414712</td>\n",
       "    </tr>\n",
       "  </tbody>\n",
       "</table>\n",
       "</div>"
      ],
      "text/plain": [
       "                                  time_interval_mean  time_interval_std\n",
       "FileID                                                                 \n",
       "00008c73ee43c15b16c26b26398c1577         3655.233083       15011.807565\n",
       "0000e2398b12121a85166fed5fe2a3da         8116.000000       43395.408067\n",
       "0001fe8dce14ce099aa6ca8ea5026ea7         1965.403433       11515.073217\n",
       "00027f50019000accc492e5684efc818          828.177719       10732.170012\n",
       "00028c9da3573ec50db74b44310ae507         1319.098093        9324.414712"
      ]
     },
     "execution_count": 23,
     "metadata": {},
     "output_type": "execute_result"
    }
   ],
   "source": [
    "df_FileID_time_interval = df_query_log.groupby('FileID')['QueryTs'].aggregate([time_interval_mean, time_interval_std])\n",
    "df_FileID_time_interval.head()"
   ]
  },
  {
   "cell_type": "markdown",
   "metadata": {},
   "source": [
    "#### df_FileID_time_interval has no NaN"
   ]
  },
  {
   "cell_type": "code",
   "execution_count": 24,
   "metadata": {},
   "outputs": [
    {
     "data": {
      "text/plain": [
       "time_interval_mean    0\n",
       "time_interval_std     0\n",
       "dtype: int64"
      ]
     },
     "execution_count": 24,
     "metadata": {},
     "output_type": "execute_result"
    }
   ],
   "source": [
    "np.isnan(df_FileID_time_interval).sum(axis=0)"
   ]
  },
  {
   "cell_type": "markdown",
   "metadata": {},
   "source": [
    "# 3. Combine all features"
   ]
  },
  {
   "cell_type": "code",
   "execution_count": 25,
   "metadata": {},
   "outputs": [
    {
     "data": {
      "text/html": [
       "<div>\n",
       "<table border=\"1\" class=\"dataframe\">\n",
       "  <thead>\n",
       "    <tr style=\"text-align: right;\">\n",
       "      <th></th>\n",
       "      <th>0374c4</th>\n",
       "      <th>055649</th>\n",
       "      <th>05b409</th>\n",
       "      <th>0cdb7a</th>\n",
       "      <th>20f8a5</th>\n",
       "      <th>218578</th>\n",
       "      <th>262880</th>\n",
       "      <th>26a5d0</th>\n",
       "      <th>3c2be6</th>\n",
       "      <th>3ea8c3</th>\n",
       "      <th>...</th>\n",
       "      <th>Mean(Day)</th>\n",
       "      <th>Mean(Nonzero Day)</th>\n",
       "      <th>Std(Day)</th>\n",
       "      <th>Total(ProductID)</th>\n",
       "      <th>Max(ProductID)</th>\n",
       "      <th>Min(ProductID)</th>\n",
       "      <th>Mean(ProductID)</th>\n",
       "      <th>Std(ProductID)</th>\n",
       "      <th>time_interval_mean</th>\n",
       "      <th>time_interval_std</th>\n",
       "    </tr>\n",
       "    <tr>\n",
       "      <th>FileID</th>\n",
       "      <th></th>\n",
       "      <th></th>\n",
       "      <th></th>\n",
       "      <th></th>\n",
       "      <th></th>\n",
       "      <th></th>\n",
       "      <th></th>\n",
       "      <th></th>\n",
       "      <th></th>\n",
       "      <th></th>\n",
       "      <th></th>\n",
       "      <th></th>\n",
       "      <th></th>\n",
       "      <th></th>\n",
       "      <th></th>\n",
       "      <th></th>\n",
       "      <th></th>\n",
       "      <th></th>\n",
       "      <th></th>\n",
       "      <th></th>\n",
       "      <th></th>\n",
       "    </tr>\n",
       "  </thead>\n",
       "  <tbody>\n",
       "    <tr>\n",
       "      <th>00008c73ee43c15b16c26b26398c1577</th>\n",
       "      <td>0.0</td>\n",
       "      <td>0.0</td>\n",
       "      <td>0.0</td>\n",
       "      <td>0.0</td>\n",
       "      <td>0.0</td>\n",
       "      <td>0.0</td>\n",
       "      <td>0.0</td>\n",
       "      <td>0.0</td>\n",
       "      <td>0.0</td>\n",
       "      <td>13.0</td>\n",
       "      <td>...</td>\n",
       "      <td>1.456522</td>\n",
       "      <td>22.333333</td>\n",
       "      <td>6.625646</td>\n",
       "      <td>134.0</td>\n",
       "      <td>83.0</td>\n",
       "      <td>0.0</td>\n",
       "      <td>4.620690</td>\n",
       "      <td>15.951744</td>\n",
       "      <td>3655.233083</td>\n",
       "      <td>15011.807565</td>\n",
       "    </tr>\n",
       "    <tr>\n",
       "      <th>0000e2398b12121a85166fed5fe2a3da</th>\n",
       "      <td>0.0</td>\n",
       "      <td>38.0</td>\n",
       "      <td>0.0</td>\n",
       "      <td>0.0</td>\n",
       "      <td>0.0</td>\n",
       "      <td>0.0</td>\n",
       "      <td>0.0</td>\n",
       "      <td>0.0</td>\n",
       "      <td>0.0</td>\n",
       "      <td>0.0</td>\n",
       "      <td>...</td>\n",
       "      <td>0.510870</td>\n",
       "      <td>15.666667</td>\n",
       "      <td>4.490514</td>\n",
       "      <td>47.0</td>\n",
       "      <td>38.0</td>\n",
       "      <td>0.0</td>\n",
       "      <td>1.620690</td>\n",
       "      <td>7.193319</td>\n",
       "      <td>8116.000000</td>\n",
       "      <td>43395.408067</td>\n",
       "    </tr>\n",
       "    <tr>\n",
       "      <th>0001fe8dce14ce099aa6ca8ea5026ea7</th>\n",
       "      <td>0.0</td>\n",
       "      <td>44.0</td>\n",
       "      <td>0.0</td>\n",
       "      <td>0.0</td>\n",
       "      <td>0.0</td>\n",
       "      <td>0.0</td>\n",
       "      <td>0.0</td>\n",
       "      <td>0.0</td>\n",
       "      <td>0.0</td>\n",
       "      <td>0.0</td>\n",
       "      <td>...</td>\n",
       "      <td>2.543478</td>\n",
       "      <td>39.000000</td>\n",
       "      <td>10.848014</td>\n",
       "      <td>234.0</td>\n",
       "      <td>141.0</td>\n",
       "      <td>0.0</td>\n",
       "      <td>8.068966</td>\n",
       "      <td>28.011389</td>\n",
       "      <td>1965.403433</td>\n",
       "      <td>11515.073217</td>\n",
       "    </tr>\n",
       "    <tr>\n",
       "      <th>00027f50019000accc492e5684efc818</th>\n",
       "      <td>0.0</td>\n",
       "      <td>11.0</td>\n",
       "      <td>0.0</td>\n",
       "      <td>0.0</td>\n",
       "      <td>0.0</td>\n",
       "      <td>0.0</td>\n",
       "      <td>0.0</td>\n",
       "      <td>0.0</td>\n",
       "      <td>0.0</td>\n",
       "      <td>117.0</td>\n",
       "      <td>...</td>\n",
       "      <td>4.108696</td>\n",
       "      <td>75.600000</td>\n",
       "      <td>27.685223</td>\n",
       "      <td>378.0</td>\n",
       "      <td>146.0</td>\n",
       "      <td>0.0</td>\n",
       "      <td>13.034483</td>\n",
       "      <td>36.908654</td>\n",
       "      <td>828.177719</td>\n",
       "      <td>10732.170012</td>\n",
       "    </tr>\n",
       "    <tr>\n",
       "      <th>00028c9da3573ec50db74b44310ae507</th>\n",
       "      <td>0.0</td>\n",
       "      <td>3.0</td>\n",
       "      <td>0.0</td>\n",
       "      <td>0.0</td>\n",
       "      <td>0.0</td>\n",
       "      <td>0.0</td>\n",
       "      <td>0.0</td>\n",
       "      <td>0.0</td>\n",
       "      <td>0.0</td>\n",
       "      <td>64.0</td>\n",
       "      <td>...</td>\n",
       "      <td>4.000000</td>\n",
       "      <td>61.333333</td>\n",
       "      <td>35.337307</td>\n",
       "      <td>368.0</td>\n",
       "      <td>290.0</td>\n",
       "      <td>0.0</td>\n",
       "      <td>12.689655</td>\n",
       "      <td>54.644372</td>\n",
       "      <td>1319.098093</td>\n",
       "      <td>9324.414712</td>\n",
       "    </tr>\n",
       "  </tbody>\n",
       "</table>\n",
       "<p>5 rows × 42 columns</p>\n",
       "</div>"
      ],
      "text/plain": [
       "                                  0374c4  055649  05b409  0cdb7a  20f8a5  \\\n",
       "FileID                                                                     \n",
       "00008c73ee43c15b16c26b26398c1577     0.0     0.0     0.0     0.0     0.0   \n",
       "0000e2398b12121a85166fed5fe2a3da     0.0    38.0     0.0     0.0     0.0   \n",
       "0001fe8dce14ce099aa6ca8ea5026ea7     0.0    44.0     0.0     0.0     0.0   \n",
       "00027f50019000accc492e5684efc818     0.0    11.0     0.0     0.0     0.0   \n",
       "00028c9da3573ec50db74b44310ae507     0.0     3.0     0.0     0.0     0.0   \n",
       "\n",
       "                                  218578  262880  26a5d0  3c2be6  3ea8c3  \\\n",
       "FileID                                                                     \n",
       "00008c73ee43c15b16c26b26398c1577     0.0     0.0     0.0     0.0    13.0   \n",
       "0000e2398b12121a85166fed5fe2a3da     0.0     0.0     0.0     0.0     0.0   \n",
       "0001fe8dce14ce099aa6ca8ea5026ea7     0.0     0.0     0.0     0.0     0.0   \n",
       "00027f50019000accc492e5684efc818     0.0     0.0     0.0     0.0   117.0   \n",
       "00028c9da3573ec50db74b44310ae507     0.0     0.0     0.0     0.0    64.0   \n",
       "\n",
       "                                        ...          Mean(Day)  \\\n",
       "FileID                                  ...                      \n",
       "00008c73ee43c15b16c26b26398c1577        ...           1.456522   \n",
       "0000e2398b12121a85166fed5fe2a3da        ...           0.510870   \n",
       "0001fe8dce14ce099aa6ca8ea5026ea7        ...           2.543478   \n",
       "00027f50019000accc492e5684efc818        ...           4.108696   \n",
       "00028c9da3573ec50db74b44310ae507        ...           4.000000   \n",
       "\n",
       "                                  Mean(Nonzero Day)   Std(Day)  \\\n",
       "FileID                                                           \n",
       "00008c73ee43c15b16c26b26398c1577          22.333333   6.625646   \n",
       "0000e2398b12121a85166fed5fe2a3da          15.666667   4.490514   \n",
       "0001fe8dce14ce099aa6ca8ea5026ea7          39.000000  10.848014   \n",
       "00027f50019000accc492e5684efc818          75.600000  27.685223   \n",
       "00028c9da3573ec50db74b44310ae507          61.333333  35.337307   \n",
       "\n",
       "                                  Total(ProductID)  Max(ProductID)  \\\n",
       "FileID                                                               \n",
       "00008c73ee43c15b16c26b26398c1577             134.0            83.0   \n",
       "0000e2398b12121a85166fed5fe2a3da              47.0            38.0   \n",
       "0001fe8dce14ce099aa6ca8ea5026ea7             234.0           141.0   \n",
       "00027f50019000accc492e5684efc818             378.0           146.0   \n",
       "00028c9da3573ec50db74b44310ae507             368.0           290.0   \n",
       "\n",
       "                                  Min(ProductID)  Mean(ProductID)  \\\n",
       "FileID                                                              \n",
       "00008c73ee43c15b16c26b26398c1577             0.0         4.620690   \n",
       "0000e2398b12121a85166fed5fe2a3da             0.0         1.620690   \n",
       "0001fe8dce14ce099aa6ca8ea5026ea7             0.0         8.068966   \n",
       "00027f50019000accc492e5684efc818             0.0        13.034483   \n",
       "00028c9da3573ec50db74b44310ae507             0.0        12.689655   \n",
       "\n",
       "                                  Std(ProductID)  time_interval_mean  \\\n",
       "FileID                                                                 \n",
       "00008c73ee43c15b16c26b26398c1577       15.951744         3655.233083   \n",
       "0000e2398b12121a85166fed5fe2a3da        7.193319         8116.000000   \n",
       "0001fe8dce14ce099aa6ca8ea5026ea7       28.011389         1965.403433   \n",
       "00027f50019000accc492e5684efc818       36.908654          828.177719   \n",
       "00028c9da3573ec50db74b44310ae507       54.644372         1319.098093   \n",
       "\n",
       "                                  time_interval_std  \n",
       "FileID                                               \n",
       "00008c73ee43c15b16c26b26398c1577       15011.807565  \n",
       "0000e2398b12121a85166fed5fe2a3da       43395.408067  \n",
       "0001fe8dce14ce099aa6ca8ea5026ea7       11515.073217  \n",
       "00027f50019000accc492e5684efc818       10732.170012  \n",
       "00028c9da3573ec50db74b44310ae507        9324.414712  \n",
       "\n",
       "[5 rows x 42 columns]"
      ]
     },
     "execution_count": 25,
     "metadata": {},
     "output_type": "execute_result"
    }
   ],
   "source": [
    "df_features = pd.concat([df_FileID_ProductID, df_FileID_Day_features, df_FileID_ProductID_features, df_FileID_time_interval],axis=1)\n",
    "df_features.head()"
   ]
  },
  {
   "cell_type": "markdown",
   "metadata": {},
   "source": [
    "#### df_features has the FileID as its index. Need to transform the FileID into a column."
   ]
  },
  {
   "cell_type": "code",
   "execution_count": 26,
   "metadata": {},
   "outputs": [
    {
     "data": {
      "text/html": [
       "<div>\n",
       "<table border=\"1\" class=\"dataframe\">\n",
       "  <thead>\n",
       "    <tr style=\"text-align: right;\">\n",
       "      <th></th>\n",
       "      <th>FileID</th>\n",
       "      <th>0374c4</th>\n",
       "      <th>055649</th>\n",
       "      <th>05b409</th>\n",
       "      <th>0cdb7a</th>\n",
       "      <th>20f8a5</th>\n",
       "      <th>218578</th>\n",
       "      <th>262880</th>\n",
       "      <th>26a5d0</th>\n",
       "      <th>3c2be6</th>\n",
       "      <th>...</th>\n",
       "      <th>Mean(Day)</th>\n",
       "      <th>Mean(Nonzero Day)</th>\n",
       "      <th>Std(Day)</th>\n",
       "      <th>Total(ProductID)</th>\n",
       "      <th>Max(ProductID)</th>\n",
       "      <th>Min(ProductID)</th>\n",
       "      <th>Mean(ProductID)</th>\n",
       "      <th>Std(ProductID)</th>\n",
       "      <th>time_interval_mean</th>\n",
       "      <th>time_interval_std</th>\n",
       "    </tr>\n",
       "  </thead>\n",
       "  <tbody>\n",
       "    <tr>\n",
       "      <th>0</th>\n",
       "      <td>00008c73ee43c15b16c26b26398c1577</td>\n",
       "      <td>0.0</td>\n",
       "      <td>0.0</td>\n",
       "      <td>0.0</td>\n",
       "      <td>0.0</td>\n",
       "      <td>0.0</td>\n",
       "      <td>0.0</td>\n",
       "      <td>0.0</td>\n",
       "      <td>0.0</td>\n",
       "      <td>0.0</td>\n",
       "      <td>...</td>\n",
       "      <td>1.456522</td>\n",
       "      <td>22.333333</td>\n",
       "      <td>6.625646</td>\n",
       "      <td>134.0</td>\n",
       "      <td>83.0</td>\n",
       "      <td>0.0</td>\n",
       "      <td>4.620690</td>\n",
       "      <td>15.951744</td>\n",
       "      <td>3655.233083</td>\n",
       "      <td>15011.807565</td>\n",
       "    </tr>\n",
       "    <tr>\n",
       "      <th>1</th>\n",
       "      <td>0000e2398b12121a85166fed5fe2a3da</td>\n",
       "      <td>0.0</td>\n",
       "      <td>38.0</td>\n",
       "      <td>0.0</td>\n",
       "      <td>0.0</td>\n",
       "      <td>0.0</td>\n",
       "      <td>0.0</td>\n",
       "      <td>0.0</td>\n",
       "      <td>0.0</td>\n",
       "      <td>0.0</td>\n",
       "      <td>...</td>\n",
       "      <td>0.510870</td>\n",
       "      <td>15.666667</td>\n",
       "      <td>4.490514</td>\n",
       "      <td>47.0</td>\n",
       "      <td>38.0</td>\n",
       "      <td>0.0</td>\n",
       "      <td>1.620690</td>\n",
       "      <td>7.193319</td>\n",
       "      <td>8116.000000</td>\n",
       "      <td>43395.408067</td>\n",
       "    </tr>\n",
       "    <tr>\n",
       "      <th>2</th>\n",
       "      <td>0001fe8dce14ce099aa6ca8ea5026ea7</td>\n",
       "      <td>0.0</td>\n",
       "      <td>44.0</td>\n",
       "      <td>0.0</td>\n",
       "      <td>0.0</td>\n",
       "      <td>0.0</td>\n",
       "      <td>0.0</td>\n",
       "      <td>0.0</td>\n",
       "      <td>0.0</td>\n",
       "      <td>0.0</td>\n",
       "      <td>...</td>\n",
       "      <td>2.543478</td>\n",
       "      <td>39.000000</td>\n",
       "      <td>10.848014</td>\n",
       "      <td>234.0</td>\n",
       "      <td>141.0</td>\n",
       "      <td>0.0</td>\n",
       "      <td>8.068966</td>\n",
       "      <td>28.011389</td>\n",
       "      <td>1965.403433</td>\n",
       "      <td>11515.073217</td>\n",
       "    </tr>\n",
       "    <tr>\n",
       "      <th>3</th>\n",
       "      <td>00027f50019000accc492e5684efc818</td>\n",
       "      <td>0.0</td>\n",
       "      <td>11.0</td>\n",
       "      <td>0.0</td>\n",
       "      <td>0.0</td>\n",
       "      <td>0.0</td>\n",
       "      <td>0.0</td>\n",
       "      <td>0.0</td>\n",
       "      <td>0.0</td>\n",
       "      <td>0.0</td>\n",
       "      <td>...</td>\n",
       "      <td>4.108696</td>\n",
       "      <td>75.600000</td>\n",
       "      <td>27.685223</td>\n",
       "      <td>378.0</td>\n",
       "      <td>146.0</td>\n",
       "      <td>0.0</td>\n",
       "      <td>13.034483</td>\n",
       "      <td>36.908654</td>\n",
       "      <td>828.177719</td>\n",
       "      <td>10732.170012</td>\n",
       "    </tr>\n",
       "    <tr>\n",
       "      <th>4</th>\n",
       "      <td>00028c9da3573ec50db74b44310ae507</td>\n",
       "      <td>0.0</td>\n",
       "      <td>3.0</td>\n",
       "      <td>0.0</td>\n",
       "      <td>0.0</td>\n",
       "      <td>0.0</td>\n",
       "      <td>0.0</td>\n",
       "      <td>0.0</td>\n",
       "      <td>0.0</td>\n",
       "      <td>0.0</td>\n",
       "      <td>...</td>\n",
       "      <td>4.000000</td>\n",
       "      <td>61.333333</td>\n",
       "      <td>35.337307</td>\n",
       "      <td>368.0</td>\n",
       "      <td>290.0</td>\n",
       "      <td>0.0</td>\n",
       "      <td>12.689655</td>\n",
       "      <td>54.644372</td>\n",
       "      <td>1319.098093</td>\n",
       "      <td>9324.414712</td>\n",
       "    </tr>\n",
       "  </tbody>\n",
       "</table>\n",
       "<p>5 rows × 43 columns</p>\n",
       "</div>"
      ],
      "text/plain": [
       "                             FileID  0374c4  055649  05b409  0cdb7a  20f8a5  \\\n",
       "0  00008c73ee43c15b16c26b26398c1577     0.0     0.0     0.0     0.0     0.0   \n",
       "1  0000e2398b12121a85166fed5fe2a3da     0.0    38.0     0.0     0.0     0.0   \n",
       "2  0001fe8dce14ce099aa6ca8ea5026ea7     0.0    44.0     0.0     0.0     0.0   \n",
       "3  00027f50019000accc492e5684efc818     0.0    11.0     0.0     0.0     0.0   \n",
       "4  00028c9da3573ec50db74b44310ae507     0.0     3.0     0.0     0.0     0.0   \n",
       "\n",
       "   218578  262880  26a5d0  3c2be6        ...          Mean(Day)  \\\n",
       "0     0.0     0.0     0.0     0.0        ...           1.456522   \n",
       "1     0.0     0.0     0.0     0.0        ...           0.510870   \n",
       "2     0.0     0.0     0.0     0.0        ...           2.543478   \n",
       "3     0.0     0.0     0.0     0.0        ...           4.108696   \n",
       "4     0.0     0.0     0.0     0.0        ...           4.000000   \n",
       "\n",
       "   Mean(Nonzero Day)   Std(Day)  Total(ProductID)  Max(ProductID)  \\\n",
       "0          22.333333   6.625646             134.0            83.0   \n",
       "1          15.666667   4.490514              47.0            38.0   \n",
       "2          39.000000  10.848014             234.0           141.0   \n",
       "3          75.600000  27.685223             378.0           146.0   \n",
       "4          61.333333  35.337307             368.0           290.0   \n",
       "\n",
       "   Min(ProductID)  Mean(ProductID)  Std(ProductID)  time_interval_mean  \\\n",
       "0             0.0         4.620690       15.951744         3655.233083   \n",
       "1             0.0         1.620690        7.193319         8116.000000   \n",
       "2             0.0         8.068966       28.011389         1965.403433   \n",
       "3             0.0        13.034483       36.908654          828.177719   \n",
       "4             0.0        12.689655       54.644372         1319.098093   \n",
       "\n",
       "   time_interval_std  \n",
       "0       15011.807565  \n",
       "1       43395.408067  \n",
       "2       11515.073217  \n",
       "3       10732.170012  \n",
       "4        9324.414712  \n",
       "\n",
       "[5 rows x 43 columns]"
      ]
     },
     "execution_count": 26,
     "metadata": {},
     "output_type": "execute_result"
    }
   ],
   "source": [
    "df_features = df_features.reset_index()\n",
    "df_features.head()"
   ]
  },
  {
   "cell_type": "markdown",
   "metadata": {},
   "source": [
    "#### Merge the training data and all features"
   ]
  },
  {
   "cell_type": "code",
   "execution_count": 27,
   "metadata": {},
   "outputs": [
    {
     "data": {
      "text/html": [
       "<div>\n",
       "<table border=\"1\" class=\"dataframe\">\n",
       "  <thead>\n",
       "    <tr style=\"text-align: right;\">\n",
       "      <th></th>\n",
       "      <th>FileID</th>\n",
       "      <th>Label</th>\n",
       "      <th>0374c4</th>\n",
       "      <th>055649</th>\n",
       "      <th>05b409</th>\n",
       "      <th>0cdb7a</th>\n",
       "      <th>20f8a5</th>\n",
       "      <th>218578</th>\n",
       "      <th>262880</th>\n",
       "      <th>26a5d0</th>\n",
       "      <th>...</th>\n",
       "      <th>Mean(Day)</th>\n",
       "      <th>Mean(Nonzero Day)</th>\n",
       "      <th>Std(Day)</th>\n",
       "      <th>Total(ProductID)</th>\n",
       "      <th>Max(ProductID)</th>\n",
       "      <th>Min(ProductID)</th>\n",
       "      <th>Mean(ProductID)</th>\n",
       "      <th>Std(ProductID)</th>\n",
       "      <th>time_interval_mean</th>\n",
       "      <th>time_interval_std</th>\n",
       "    </tr>\n",
       "  </thead>\n",
       "  <tbody>\n",
       "    <tr>\n",
       "      <th>0</th>\n",
       "      <td>0000e2398b12121a85166fed5fe2a3da</td>\n",
       "      <td>0</td>\n",
       "      <td>0.0</td>\n",
       "      <td>38.0</td>\n",
       "      <td>0.0</td>\n",
       "      <td>0.0</td>\n",
       "      <td>0.0</td>\n",
       "      <td>0.0</td>\n",
       "      <td>0.0</td>\n",
       "      <td>0.0</td>\n",
       "      <td>...</td>\n",
       "      <td>0.510870</td>\n",
       "      <td>15.666667</td>\n",
       "      <td>4.490514</td>\n",
       "      <td>47.0</td>\n",
       "      <td>38.0</td>\n",
       "      <td>0.0</td>\n",
       "      <td>1.620690</td>\n",
       "      <td>7.193319</td>\n",
       "      <td>8116.000000</td>\n",
       "      <td>43395.408067</td>\n",
       "    </tr>\n",
       "    <tr>\n",
       "      <th>1</th>\n",
       "      <td>0001fe8dce14ce099aa6ca8ea5026ea7</td>\n",
       "      <td>0</td>\n",
       "      <td>0.0</td>\n",
       "      <td>44.0</td>\n",
       "      <td>0.0</td>\n",
       "      <td>0.0</td>\n",
       "      <td>0.0</td>\n",
       "      <td>0.0</td>\n",
       "      <td>0.0</td>\n",
       "      <td>0.0</td>\n",
       "      <td>...</td>\n",
       "      <td>2.543478</td>\n",
       "      <td>39.000000</td>\n",
       "      <td>10.848014</td>\n",
       "      <td>234.0</td>\n",
       "      <td>141.0</td>\n",
       "      <td>0.0</td>\n",
       "      <td>8.068966</td>\n",
       "      <td>28.011389</td>\n",
       "      <td>1965.403433</td>\n",
       "      <td>11515.073217</td>\n",
       "    </tr>\n",
       "    <tr>\n",
       "      <th>2</th>\n",
       "      <td>00027f50019000accc492e5684efc818</td>\n",
       "      <td>0</td>\n",
       "      <td>0.0</td>\n",
       "      <td>11.0</td>\n",
       "      <td>0.0</td>\n",
       "      <td>0.0</td>\n",
       "      <td>0.0</td>\n",
       "      <td>0.0</td>\n",
       "      <td>0.0</td>\n",
       "      <td>0.0</td>\n",
       "      <td>...</td>\n",
       "      <td>4.108696</td>\n",
       "      <td>75.600000</td>\n",
       "      <td>27.685223</td>\n",
       "      <td>378.0</td>\n",
       "      <td>146.0</td>\n",
       "      <td>0.0</td>\n",
       "      <td>13.034483</td>\n",
       "      <td>36.908654</td>\n",
       "      <td>828.177719</td>\n",
       "      <td>10732.170012</td>\n",
       "    </tr>\n",
       "    <tr>\n",
       "      <th>3</th>\n",
       "      <td>00028c9da3573ec50db74b44310ae507</td>\n",
       "      <td>0</td>\n",
       "      <td>0.0</td>\n",
       "      <td>3.0</td>\n",
       "      <td>0.0</td>\n",
       "      <td>0.0</td>\n",
       "      <td>0.0</td>\n",
       "      <td>0.0</td>\n",
       "      <td>0.0</td>\n",
       "      <td>0.0</td>\n",
       "      <td>...</td>\n",
       "      <td>4.000000</td>\n",
       "      <td>61.333333</td>\n",
       "      <td>35.337307</td>\n",
       "      <td>368.0</td>\n",
       "      <td>290.0</td>\n",
       "      <td>0.0</td>\n",
       "      <td>12.689655</td>\n",
       "      <td>54.644372</td>\n",
       "      <td>1319.098093</td>\n",
       "      <td>9324.414712</td>\n",
       "    </tr>\n",
       "    <tr>\n",
       "      <th>4</th>\n",
       "      <td>0003dc8130969abe688cadf5f14ea19f</td>\n",
       "      <td>0</td>\n",
       "      <td>0.0</td>\n",
       "      <td>20.0</td>\n",
       "      <td>0.0</td>\n",
       "      <td>0.0</td>\n",
       "      <td>0.0</td>\n",
       "      <td>0.0</td>\n",
       "      <td>0.0</td>\n",
       "      <td>0.0</td>\n",
       "      <td>...</td>\n",
       "      <td>2.554348</td>\n",
       "      <td>39.166667</td>\n",
       "      <td>14.365224</td>\n",
       "      <td>235.0</td>\n",
       "      <td>172.0</td>\n",
       "      <td>0.0</td>\n",
       "      <td>8.103448</td>\n",
       "      <td>32.478944</td>\n",
       "      <td>1967.081197</td>\n",
       "      <td>14497.223003</td>\n",
       "    </tr>\n",
       "  </tbody>\n",
       "</table>\n",
       "<p>5 rows × 44 columns</p>\n",
       "</div>"
      ],
      "text/plain": [
       "                             FileID  Label  0374c4  055649  05b409  0cdb7a  \\\n",
       "0  0000e2398b12121a85166fed5fe2a3da      0     0.0    38.0     0.0     0.0   \n",
       "1  0001fe8dce14ce099aa6ca8ea5026ea7      0     0.0    44.0     0.0     0.0   \n",
       "2  00027f50019000accc492e5684efc818      0     0.0    11.0     0.0     0.0   \n",
       "3  00028c9da3573ec50db74b44310ae507      0     0.0     3.0     0.0     0.0   \n",
       "4  0003dc8130969abe688cadf5f14ea19f      0     0.0    20.0     0.0     0.0   \n",
       "\n",
       "   20f8a5  218578  262880  26a5d0        ...          Mean(Day)  \\\n",
       "0     0.0     0.0     0.0     0.0        ...           0.510870   \n",
       "1     0.0     0.0     0.0     0.0        ...           2.543478   \n",
       "2     0.0     0.0     0.0     0.0        ...           4.108696   \n",
       "3     0.0     0.0     0.0     0.0        ...           4.000000   \n",
       "4     0.0     0.0     0.0     0.0        ...           2.554348   \n",
       "\n",
       "   Mean(Nonzero Day)   Std(Day)  Total(ProductID)  Max(ProductID)  \\\n",
       "0          15.666667   4.490514              47.0            38.0   \n",
       "1          39.000000  10.848014             234.0           141.0   \n",
       "2          75.600000  27.685223             378.0           146.0   \n",
       "3          61.333333  35.337307             368.0           290.0   \n",
       "4          39.166667  14.365224             235.0           172.0   \n",
       "\n",
       "   Min(ProductID)  Mean(ProductID)  Std(ProductID)  time_interval_mean  \\\n",
       "0             0.0         1.620690        7.193319         8116.000000   \n",
       "1             0.0         8.068966       28.011389         1965.403433   \n",
       "2             0.0        13.034483       36.908654          828.177719   \n",
       "3             0.0        12.689655       54.644372         1319.098093   \n",
       "4             0.0         8.103448       32.478944         1967.081197   \n",
       "\n",
       "   time_interval_std  \n",
       "0       43395.408067  \n",
       "1       11515.073217  \n",
       "2       10732.170012  \n",
       "3        9324.414712  \n",
       "4       14497.223003  \n",
       "\n",
       "[5 rows x 44 columns]"
      ]
     },
     "execution_count": 27,
     "metadata": {},
     "output_type": "execute_result"
    }
   ],
   "source": [
    "df_train_final = pd.merge(df_train, df_features, on=['FileID'], how='left')\n",
    "df_train_final.head()"
   ]
  },
  {
   "cell_type": "markdown",
   "metadata": {},
   "source": [
    "# Split data"
   ]
  },
  {
   "cell_type": "markdown",
   "metadata": {},
   "source": [
    "#### Because #0 >> #1, it needs to split the training data by "
   ]
  },
  {
   "cell_type": "code",
   "execution_count": 28,
   "metadata": {
    "collapsed": true
   },
   "outputs": [],
   "source": [
    "df_nonvirus = df_train_final[df_train_final['Label']==0]\n",
    "df_virus    = df_train_final[df_train_final['Label']==1]"
   ]
  },
  {
   "cell_type": "code",
   "execution_count": 29,
   "metadata": {},
   "outputs": [
    {
     "name": "stdout",
     "output_type": "stream",
     "text": [
      "46878\n",
      "5640\n"
     ]
    }
   ],
   "source": [
    "print(len(df_nonvirus))\n",
    "print(len(df_virus))"
   ]
  },
  {
   "cell_type": "code",
   "execution_count": 30,
   "metadata": {},
   "outputs": [
    {
     "data": {
      "text/html": [
       "<div>\n",
       "<table border=\"1\" class=\"dataframe\">\n",
       "  <thead>\n",
       "    <tr style=\"text-align: right;\">\n",
       "      <th></th>\n",
       "      <th>FileID</th>\n",
       "      <th>Label</th>\n",
       "      <th>0374c4</th>\n",
       "      <th>055649</th>\n",
       "      <th>05b409</th>\n",
       "      <th>0cdb7a</th>\n",
       "      <th>20f8a5</th>\n",
       "      <th>218578</th>\n",
       "      <th>262880</th>\n",
       "      <th>26a5d0</th>\n",
       "      <th>...</th>\n",
       "      <th>Mean(Day)</th>\n",
       "      <th>Mean(Nonzero Day)</th>\n",
       "      <th>Std(Day)</th>\n",
       "      <th>Total(ProductID)</th>\n",
       "      <th>Max(ProductID)</th>\n",
       "      <th>Min(ProductID)</th>\n",
       "      <th>Mean(ProductID)</th>\n",
       "      <th>Std(ProductID)</th>\n",
       "      <th>time_interval_mean</th>\n",
       "      <th>time_interval_std</th>\n",
       "    </tr>\n",
       "  </thead>\n",
       "  <tbody>\n",
       "    <tr>\n",
       "      <th>6</th>\n",
       "      <td>0005e4c0263f52453438ddd0d55aef82</td>\n",
       "      <td>1</td>\n",
       "      <td>0.0</td>\n",
       "      <td>0.0</td>\n",
       "      <td>0.0</td>\n",
       "      <td>0.0</td>\n",
       "      <td>0.0</td>\n",
       "      <td>0.0</td>\n",
       "      <td>0.0</td>\n",
       "      <td>0.0</td>\n",
       "      <td>...</td>\n",
       "      <td>4.000000</td>\n",
       "      <td>61.333333</td>\n",
       "      <td>17.462676</td>\n",
       "      <td>368.0</td>\n",
       "      <td>161.0</td>\n",
       "      <td>0.0</td>\n",
       "      <td>12.689655</td>\n",
       "      <td>39.592661</td>\n",
       "      <td>1343.449591</td>\n",
       "      <td>7544.569808</td>\n",
       "    </tr>\n",
       "    <tr>\n",
       "      <th>17</th>\n",
       "      <td>00117b31bd107c43123c8a0180dc036c</td>\n",
       "      <td>1</td>\n",
       "      <td>0.0</td>\n",
       "      <td>17.0</td>\n",
       "      <td>0.0</td>\n",
       "      <td>0.0</td>\n",
       "      <td>2.0</td>\n",
       "      <td>0.0</td>\n",
       "      <td>0.0</td>\n",
       "      <td>0.0</td>\n",
       "      <td>...</td>\n",
       "      <td>1.836957</td>\n",
       "      <td>28.166667</td>\n",
       "      <td>12.840764</td>\n",
       "      <td>169.0</td>\n",
       "      <td>111.0</td>\n",
       "      <td>0.0</td>\n",
       "      <td>5.827586</td>\n",
       "      <td>21.389365</td>\n",
       "      <td>2341.898810</td>\n",
       "      <td>15909.632457</td>\n",
       "    </tr>\n",
       "    <tr>\n",
       "      <th>23</th>\n",
       "      <td>001abb71230ddab7ff7016ccfac80d16</td>\n",
       "      <td>1</td>\n",
       "      <td>0.0</td>\n",
       "      <td>0.0</td>\n",
       "      <td>0.0</td>\n",
       "      <td>0.0</td>\n",
       "      <td>0.0</td>\n",
       "      <td>0.0</td>\n",
       "      <td>0.0</td>\n",
       "      <td>0.0</td>\n",
       "      <td>...</td>\n",
       "      <td>5.076087</td>\n",
       "      <td>77.833333</td>\n",
       "      <td>37.152857</td>\n",
       "      <td>467.0</td>\n",
       "      <td>235.0</td>\n",
       "      <td>0.0</td>\n",
       "      <td>16.103448</td>\n",
       "      <td>46.134388</td>\n",
       "      <td>1065.396996</td>\n",
       "      <td>10496.769980</td>\n",
       "    </tr>\n",
       "    <tr>\n",
       "      <th>28</th>\n",
       "      <td>0023276a212ce8efa247fc1bca44b853</td>\n",
       "      <td>1</td>\n",
       "      <td>0.0</td>\n",
       "      <td>1.0</td>\n",
       "      <td>0.0</td>\n",
       "      <td>0.0</td>\n",
       "      <td>0.0</td>\n",
       "      <td>0.0</td>\n",
       "      <td>0.0</td>\n",
       "      <td>0.0</td>\n",
       "      <td>...</td>\n",
       "      <td>0.271739</td>\n",
       "      <td>8.333333</td>\n",
       "      <td>2.204407</td>\n",
       "      <td>25.0</td>\n",
       "      <td>14.0</td>\n",
       "      <td>0.0</td>\n",
       "      <td>0.862069</td>\n",
       "      <td>2.850115</td>\n",
       "      <td>12863.958333</td>\n",
       "      <td>57689.123669</td>\n",
       "    </tr>\n",
       "    <tr>\n",
       "      <th>35</th>\n",
       "      <td>002d78cefc2397e89c416fb1938024d8</td>\n",
       "      <td>1</td>\n",
       "      <td>0.0</td>\n",
       "      <td>0.0</td>\n",
       "      <td>0.0</td>\n",
       "      <td>0.0</td>\n",
       "      <td>19.0</td>\n",
       "      <td>0.0</td>\n",
       "      <td>0.0</td>\n",
       "      <td>0.0</td>\n",
       "      <td>...</td>\n",
       "      <td>0.336957</td>\n",
       "      <td>7.750000</td>\n",
       "      <td>2.154868</td>\n",
       "      <td>31.0</td>\n",
       "      <td>19.0</td>\n",
       "      <td>0.0</td>\n",
       "      <td>1.068966</td>\n",
       "      <td>3.863113</td>\n",
       "      <td>10520.633333</td>\n",
       "      <td>32142.635006</td>\n",
       "    </tr>\n",
       "  </tbody>\n",
       "</table>\n",
       "<p>5 rows × 44 columns</p>\n",
       "</div>"
      ],
      "text/plain": [
       "                              FileID  Label  0374c4  055649  05b409  0cdb7a  \\\n",
       "6   0005e4c0263f52453438ddd0d55aef82      1     0.0     0.0     0.0     0.0   \n",
       "17  00117b31bd107c43123c8a0180dc036c      1     0.0    17.0     0.0     0.0   \n",
       "23  001abb71230ddab7ff7016ccfac80d16      1     0.0     0.0     0.0     0.0   \n",
       "28  0023276a212ce8efa247fc1bca44b853      1     0.0     1.0     0.0     0.0   \n",
       "35  002d78cefc2397e89c416fb1938024d8      1     0.0     0.0     0.0     0.0   \n",
       "\n",
       "    20f8a5  218578  262880  26a5d0        ...          Mean(Day)  \\\n",
       "6      0.0     0.0     0.0     0.0        ...           4.000000   \n",
       "17     2.0     0.0     0.0     0.0        ...           1.836957   \n",
       "23     0.0     0.0     0.0     0.0        ...           5.076087   \n",
       "28     0.0     0.0     0.0     0.0        ...           0.271739   \n",
       "35    19.0     0.0     0.0     0.0        ...           0.336957   \n",
       "\n",
       "    Mean(Nonzero Day)   Std(Day)  Total(ProductID)  Max(ProductID)  \\\n",
       "6           61.333333  17.462676             368.0           161.0   \n",
       "17          28.166667  12.840764             169.0           111.0   \n",
       "23          77.833333  37.152857             467.0           235.0   \n",
       "28           8.333333   2.204407              25.0            14.0   \n",
       "35           7.750000   2.154868              31.0            19.0   \n",
       "\n",
       "    Min(ProductID)  Mean(ProductID)  Std(ProductID)  time_interval_mean  \\\n",
       "6              0.0        12.689655       39.592661         1343.449591   \n",
       "17             0.0         5.827586       21.389365         2341.898810   \n",
       "23             0.0        16.103448       46.134388         1065.396996   \n",
       "28             0.0         0.862069        2.850115        12863.958333   \n",
       "35             0.0         1.068966        3.863113        10520.633333   \n",
       "\n",
       "    time_interval_std  \n",
       "6         7544.569808  \n",
       "17       15909.632457  \n",
       "23       10496.769980  \n",
       "28       57689.123669  \n",
       "35       32142.635006  \n",
       "\n",
       "[5 rows x 44 columns]"
      ]
     },
     "execution_count": 30,
     "metadata": {},
     "output_type": "execute_result"
    }
   ],
   "source": [
    "df_virus.head()"
   ]
  },
  {
   "cell_type": "code",
   "execution_count": 31,
   "metadata": {},
   "outputs": [
    {
     "name": "stdout",
     "output_type": "stream",
     "text": [
      "(46878, 42)\n",
      "(46878,)\n",
      "(5640, 42)\n",
      "(5640,)\n"
     ]
    }
   ],
   "source": [
    "X_nonvirus = df_nonvirus.iloc[:, 2:]\n",
    "y_nonvirus = df_nonvirus.iloc[:, 1]\n",
    "X_virus = df_virus.iloc[:,2:]\n",
    "y_virus = df_virus.iloc[:,1]\n",
    "print(X_nonvirus.shape)\n",
    "print(y_nonvirus.shape)\n",
    "print(X_virus.shape)\n",
    "print(y_virus.shape)"
   ]
  },
  {
   "cell_type": "code",
   "execution_count": 39,
   "metadata": {
    "collapsed": true
   },
   "outputs": [],
   "source": [
    "X_nonvirus_train, X_nonvirus_valid, y_nonvirus_train, y_nonvirus_valid = train_test_split(X_nonvirus, y_nonvirus, test_size=0.2, shuffle=True)\n",
    "X_virus_train, X_virus_valid, y_virus_train, y_virus_valid = train_test_split(X_virus, y_virus, test_size=0.2, shuffle=True)"
   ]
  },
  {
   "cell_type": "code",
   "execution_count": 40,
   "metadata": {
    "collapsed": true
   },
   "outputs": [],
   "source": [
    "X_train = np.vstack([X_nonvirus_train, X_virus_train])\n",
    "y_train = np.hstack([y_nonvirus_train, y_virus_train])\n",
    "X_valid = np.vstack([X_nonvirus_valid, X_virus_valid])\n",
    "y_valid = np.hstack([y_nonvirus_valid, y_virus_valid])"
   ]
  },
  {
   "cell_type": "code",
   "execution_count": 41,
   "metadata": {},
   "outputs": [
    {
     "name": "stdout",
     "output_type": "stream",
     "text": [
      "(42014, 42)\n",
      "(42014,)\n",
      "(10504, 42)\n",
      "(10504,)\n"
     ]
    }
   ],
   "source": [
    "print(X_train.shape)\n",
    "print(y_train.shape)\n",
    "print(X_valid.shape)\n",
    "print(y_valid.shape)"
   ]
  },
  {
   "cell_type": "markdown",
   "metadata": {},
   "source": [
    "# Model"
   ]
  },
  {
   "cell_type": "code",
   "execution_count": 42,
   "metadata": {},
   "outputs": [
    {
     "name": "stdout",
     "output_type": "stream",
     "text": [
      "[0]\tvalidation_0-auc:0.832852\n",
      "Will train until validation_0-auc hasn't improved in 10 rounds.\n",
      "[1]\tvalidation_0-auc:0.853598\n",
      "[2]\tvalidation_0-auc:0.85658\n",
      "[3]\tvalidation_0-auc:0.861704\n",
      "[4]\tvalidation_0-auc:0.865182\n",
      "[5]\tvalidation_0-auc:0.867989\n",
      "[6]\tvalidation_0-auc:0.870218\n",
      "[7]\tvalidation_0-auc:0.872569\n",
      "[8]\tvalidation_0-auc:0.87458\n",
      "[9]\tvalidation_0-auc:0.878021\n",
      "[10]\tvalidation_0-auc:0.8804\n",
      "[11]\tvalidation_0-auc:0.880672\n",
      "[12]\tvalidation_0-auc:0.882161\n",
      "[13]\tvalidation_0-auc:0.885178\n",
      "[14]\tvalidation_0-auc:0.889516\n",
      "[15]\tvalidation_0-auc:0.889543\n",
      "[16]\tvalidation_0-auc:0.890497\n",
      "[17]\tvalidation_0-auc:0.89176\n",
      "[18]\tvalidation_0-auc:0.89221\n",
      "[19]\tvalidation_0-auc:0.892667\n",
      "[20]\tvalidation_0-auc:0.89331\n",
      "[21]\tvalidation_0-auc:0.893253\n",
      "[22]\tvalidation_0-auc:0.893514\n",
      "[23]\tvalidation_0-auc:0.894644\n",
      "[24]\tvalidation_0-auc:0.895334\n",
      "[25]\tvalidation_0-auc:0.895978\n",
      "[26]\tvalidation_0-auc:0.896546\n",
      "[27]\tvalidation_0-auc:0.897472\n",
      "[28]\tvalidation_0-auc:0.898578\n",
      "[29]\tvalidation_0-auc:0.899287\n",
      "[30]\tvalidation_0-auc:0.899764\n",
      "[31]\tvalidation_0-auc:0.900222\n",
      "[32]\tvalidation_0-auc:0.901479\n",
      "[33]\tvalidation_0-auc:0.90262\n",
      "[34]\tvalidation_0-auc:0.902846\n",
      "[35]\tvalidation_0-auc:0.903234\n",
      "[36]\tvalidation_0-auc:0.903952\n",
      "[37]\tvalidation_0-auc:0.904259\n",
      "[38]\tvalidation_0-auc:0.904853\n",
      "[39]\tvalidation_0-auc:0.905588\n",
      "[40]\tvalidation_0-auc:0.905971\n",
      "[41]\tvalidation_0-auc:0.906334\n",
      "[42]\tvalidation_0-auc:0.906759\n",
      "[43]\tvalidation_0-auc:0.907063\n",
      "[44]\tvalidation_0-auc:0.907386\n",
      "[45]\tvalidation_0-auc:0.907517\n",
      "[46]\tvalidation_0-auc:0.907521\n",
      "[47]\tvalidation_0-auc:0.907669\n",
      "[48]\tvalidation_0-auc:0.907675\n",
      "[49]\tvalidation_0-auc:0.907953\n",
      "[50]\tvalidation_0-auc:0.908087\n",
      "[51]\tvalidation_0-auc:0.908316\n",
      "[52]\tvalidation_0-auc:0.908391\n",
      "[53]\tvalidation_0-auc:0.908668\n",
      "[54]\tvalidation_0-auc:0.908744\n",
      "[55]\tvalidation_0-auc:0.908728\n",
      "[56]\tvalidation_0-auc:0.909045\n",
      "[57]\tvalidation_0-auc:0.909535\n",
      "[58]\tvalidation_0-auc:0.909762\n",
      "[59]\tvalidation_0-auc:0.910409\n",
      "[60]\tvalidation_0-auc:0.910632\n",
      "[61]\tvalidation_0-auc:0.910648\n",
      "[62]\tvalidation_0-auc:0.910517\n",
      "[63]\tvalidation_0-auc:0.910651\n",
      "[64]\tvalidation_0-auc:0.910791\n",
      "[65]\tvalidation_0-auc:0.910747\n",
      "[66]\tvalidation_0-auc:0.911172\n",
      "[67]\tvalidation_0-auc:0.911157\n",
      "[68]\tvalidation_0-auc:0.911282\n",
      "[69]\tvalidation_0-auc:0.911339\n",
      "[70]\tvalidation_0-auc:0.911492\n",
      "[71]\tvalidation_0-auc:0.911762\n",
      "[72]\tvalidation_0-auc:0.912352\n",
      "[73]\tvalidation_0-auc:0.912635\n",
      "[74]\tvalidation_0-auc:0.91284\n",
      "[75]\tvalidation_0-auc:0.912814\n",
      "[76]\tvalidation_0-auc:0.913241\n",
      "[77]\tvalidation_0-auc:0.913324\n",
      "[78]\tvalidation_0-auc:0.913266\n",
      "[79]\tvalidation_0-auc:0.913508\n",
      "[80]\tvalidation_0-auc:0.913592\n",
      "[81]\tvalidation_0-auc:0.91403\n",
      "[82]\tvalidation_0-auc:0.914189\n",
      "[83]\tvalidation_0-auc:0.914198\n",
      "[84]\tvalidation_0-auc:0.914155\n",
      "[85]\tvalidation_0-auc:0.91417\n",
      "[86]\tvalidation_0-auc:0.914194\n",
      "[87]\tvalidation_0-auc:0.914138\n",
      "[88]\tvalidation_0-auc:0.914065\n",
      "[89]\tvalidation_0-auc:0.91411\n",
      "[90]\tvalidation_0-auc:0.914064\n",
      "[91]\tvalidation_0-auc:0.914106\n",
      "[92]\tvalidation_0-auc:0.914174\n",
      "[93]\tvalidation_0-auc:0.914227\n",
      "[94]\tvalidation_0-auc:0.914202\n",
      "[95]\tvalidation_0-auc:0.914324\n",
      "[96]\tvalidation_0-auc:0.914576\n",
      "[97]\tvalidation_0-auc:0.914604\n",
      "[98]\tvalidation_0-auc:0.914503\n",
      "[99]\tvalidation_0-auc:0.914417\n",
      "[100]\tvalidation_0-auc:0.914386\n",
      "[101]\tvalidation_0-auc:0.91443\n",
      "[102]\tvalidation_0-auc:0.914554\n",
      "[103]\tvalidation_0-auc:0.914618\n",
      "[104]\tvalidation_0-auc:0.914765\n",
      "[105]\tvalidation_0-auc:0.914784\n",
      "[106]\tvalidation_0-auc:0.914521\n",
      "[107]\tvalidation_0-auc:0.914495\n",
      "[108]\tvalidation_0-auc:0.914485\n",
      "[109]\tvalidation_0-auc:0.914271\n",
      "[110]\tvalidation_0-auc:0.91445\n",
      "[111]\tvalidation_0-auc:0.91447\n",
      "[112]\tvalidation_0-auc:0.914608\n",
      "[113]\tvalidation_0-auc:0.914442\n",
      "[114]\tvalidation_0-auc:0.914398\n",
      "[115]\tvalidation_0-auc:0.914421\n",
      "Stopping. Best iteration:\n",
      "[105]\tvalidation_0-auc:0.914784\n",
      "\n"
     ]
    },
    {
     "data": {
      "text/plain": [
       "XGBClassifier(base_score=0.5, booster='gbtree', colsample_bylevel=1,\n",
       "       colsample_bytree=1, gamma=0, learning_rate=0.1, max_delta_step=0,\n",
       "       max_depth=10, min_child_weight=1, missing=None, n_estimators=3000,\n",
       "       n_jobs=1, nthread=None, objective='binary:logistic', random_state=0,\n",
       "       reg_alpha=0, reg_lambda=1, scale_pos_weight=1, seed=None,\n",
       "       silent=True, subsample=1)"
      ]
     },
     "execution_count": 42,
     "metadata": {},
     "output_type": "execute_result"
    }
   ],
   "source": [
    "eval_set = [(X_valid, y_valid)]\n",
    "\n",
    "model = XGBClassifier(learning_rate=0.1, n_estimators=3000, max_depth=10)\n",
    "model.fit(X_train, y_train, early_stopping_rounds=10, eval_metric='auc', eval_set=eval_set, verbose=True)"
   ]
  },
  {
   "cell_type": "code",
   "execution_count": 43,
   "metadata": {},
   "outputs": [
    {
     "data": {
      "text/plain": [
       "0.985866327081941"
      ]
     },
     "execution_count": 43,
     "metadata": {},
     "output_type": "execute_result"
    }
   ],
   "source": [
    "roc_auc_score(y_train, model.predict_proba(X_train)[:,1])"
   ]
  },
  {
   "cell_type": "code",
   "execution_count": 44,
   "metadata": {},
   "outputs": [
    {
     "data": {
      "text/plain": [
       "0.91442142152591199"
      ]
     },
     "execution_count": 44,
     "metadata": {},
     "output_type": "execute_result"
    }
   ],
   "source": [
    "y_pred = model.predict_proba(X_valid)[:,1]\n",
    "roc_auc_score(y_valid, y_pred)"
   ]
  },
  {
   "cell_type": "markdown",
   "metadata": {},
   "source": [
    "# Test data"
   ]
  },
  {
   "cell_type": "code",
   "execution_count": 52,
   "metadata": {},
   "outputs": [
    {
     "data": {
      "text/html": [
       "<div>\n",
       "<table border=\"1\" class=\"dataframe\">\n",
       "  <thead>\n",
       "    <tr style=\"text-align: right;\">\n",
       "      <th></th>\n",
       "      <th>FileID</th>\n",
       "      <th>Label</th>\n",
       "      <th>0374c4</th>\n",
       "      <th>055649</th>\n",
       "      <th>05b409</th>\n",
       "      <th>0cdb7a</th>\n",
       "      <th>20f8a5</th>\n",
       "      <th>218578</th>\n",
       "      <th>262880</th>\n",
       "      <th>26a5d0</th>\n",
       "      <th>...</th>\n",
       "      <th>Mean(Day)</th>\n",
       "      <th>Mean(Nonzero Day)</th>\n",
       "      <th>Std(Day)</th>\n",
       "      <th>Total(ProductID)</th>\n",
       "      <th>Max(ProductID)</th>\n",
       "      <th>Min(ProductID)</th>\n",
       "      <th>Mean(ProductID)</th>\n",
       "      <th>Std(ProductID)</th>\n",
       "      <th>time_interval_mean</th>\n",
       "      <th>time_interval_std</th>\n",
       "    </tr>\n",
       "  </thead>\n",
       "  <tbody>\n",
       "    <tr>\n",
       "      <th>0</th>\n",
       "      <td>00008c73ee43c15b16c26b26398c1577</td>\n",
       "      <td>0.012381</td>\n",
       "      <td>0.0</td>\n",
       "      <td>0.0</td>\n",
       "      <td>0.0</td>\n",
       "      <td>0.0</td>\n",
       "      <td>0.0</td>\n",
       "      <td>0.0</td>\n",
       "      <td>0.0</td>\n",
       "      <td>0.0</td>\n",
       "      <td>...</td>\n",
       "      <td>1.456522</td>\n",
       "      <td>22.333333</td>\n",
       "      <td>6.625646</td>\n",
       "      <td>134.0</td>\n",
       "      <td>83.0</td>\n",
       "      <td>0.0</td>\n",
       "      <td>4.620690</td>\n",
       "      <td>15.951744</td>\n",
       "      <td>3655.233083</td>\n",
       "      <td>15011.807565</td>\n",
       "    </tr>\n",
       "    <tr>\n",
       "      <th>1</th>\n",
       "      <td>0002ded3a0b54f2ffdab0ca77a5ce2b6</td>\n",
       "      <td>0.514261</td>\n",
       "      <td>0.0</td>\n",
       "      <td>0.0</td>\n",
       "      <td>0.0</td>\n",
       "      <td>0.0</td>\n",
       "      <td>0.0</td>\n",
       "      <td>0.0</td>\n",
       "      <td>0.0</td>\n",
       "      <td>0.0</td>\n",
       "      <td>...</td>\n",
       "      <td>8.597826</td>\n",
       "      <td>395.500000</td>\n",
       "      <td>70.422596</td>\n",
       "      <td>791.0</td>\n",
       "      <td>790.0</td>\n",
       "      <td>0.0</td>\n",
       "      <td>27.275862</td>\n",
       "      <td>146.692803</td>\n",
       "      <td>247.073418</td>\n",
       "      <td>5667.738256</td>\n",
       "    </tr>\n",
       "    <tr>\n",
       "      <th>2</th>\n",
       "      <td>00050a9df8e13f6ab5a3d3b3e2fc6a86</td>\n",
       "      <td>0.003120</td>\n",
       "      <td>0.0</td>\n",
       "      <td>64.0</td>\n",
       "      <td>0.0</td>\n",
       "      <td>0.0</td>\n",
       "      <td>0.0</td>\n",
       "      <td>0.0</td>\n",
       "      <td>0.0</td>\n",
       "      <td>0.0</td>\n",
       "      <td>...</td>\n",
       "      <td>6.706522</td>\n",
       "      <td>102.833333</td>\n",
       "      <td>28.495050</td>\n",
       "      <td>617.0</td>\n",
       "      <td>427.0</td>\n",
       "      <td>0.0</td>\n",
       "      <td>21.275862</td>\n",
       "      <td>81.644655</td>\n",
       "      <td>709.012987</td>\n",
       "      <td>9313.850901</td>\n",
       "    </tr>\n",
       "    <tr>\n",
       "      <th>3</th>\n",
       "      <td>000b1aa62b95e448784b8b341de46c64</td>\n",
       "      <td>0.016599</td>\n",
       "      <td>0.0</td>\n",
       "      <td>32.0</td>\n",
       "      <td>0.0</td>\n",
       "      <td>0.0</td>\n",
       "      <td>4.0</td>\n",
       "      <td>0.0</td>\n",
       "      <td>0.0</td>\n",
       "      <td>1.0</td>\n",
       "      <td>...</td>\n",
       "      <td>2.630435</td>\n",
       "      <td>48.400000</td>\n",
       "      <td>24.287073</td>\n",
       "      <td>242.0</td>\n",
       "      <td>193.0</td>\n",
       "      <td>0.0</td>\n",
       "      <td>8.344828</td>\n",
       "      <td>36.013168</td>\n",
       "      <td>1542.630705</td>\n",
       "      <td>11664.186647</td>\n",
       "    </tr>\n",
       "    <tr>\n",
       "      <th>4</th>\n",
       "      <td>000d9f96b5eddf04a3b7a37cb95d0a00</td>\n",
       "      <td>0.025591</td>\n",
       "      <td>0.0</td>\n",
       "      <td>0.0</td>\n",
       "      <td>0.0</td>\n",
       "      <td>0.0</td>\n",
       "      <td>0.0</td>\n",
       "      <td>0.0</td>\n",
       "      <td>0.0</td>\n",
       "      <td>0.0</td>\n",
       "      <td>...</td>\n",
       "      <td>0.793478</td>\n",
       "      <td>12.166667</td>\n",
       "      <td>3.728530</td>\n",
       "      <td>73.0</td>\n",
       "      <td>47.0</td>\n",
       "      <td>0.0</td>\n",
       "      <td>2.517241</td>\n",
       "      <td>9.283706</td>\n",
       "      <td>6032.527778</td>\n",
       "      <td>23926.613182</td>\n",
       "    </tr>\n",
       "  </tbody>\n",
       "</table>\n",
       "<p>5 rows × 44 columns</p>\n",
       "</div>"
      ],
      "text/plain": [
       "                             FileID     Label  0374c4  055649  05b409  0cdb7a  \\\n",
       "0  00008c73ee43c15b16c26b26398c1577  0.012381     0.0     0.0     0.0     0.0   \n",
       "1  0002ded3a0b54f2ffdab0ca77a5ce2b6  0.514261     0.0     0.0     0.0     0.0   \n",
       "2  00050a9df8e13f6ab5a3d3b3e2fc6a86  0.003120     0.0    64.0     0.0     0.0   \n",
       "3  000b1aa62b95e448784b8b341de46c64  0.016599     0.0    32.0     0.0     0.0   \n",
       "4  000d9f96b5eddf04a3b7a37cb95d0a00  0.025591     0.0     0.0     0.0     0.0   \n",
       "\n",
       "   20f8a5  218578  262880  26a5d0        ...          Mean(Day)  \\\n",
       "0     0.0     0.0     0.0     0.0        ...           1.456522   \n",
       "1     0.0     0.0     0.0     0.0        ...           8.597826   \n",
       "2     0.0     0.0     0.0     0.0        ...           6.706522   \n",
       "3     4.0     0.0     0.0     1.0        ...           2.630435   \n",
       "4     0.0     0.0     0.0     0.0        ...           0.793478   \n",
       "\n",
       "   Mean(Nonzero Day)   Std(Day)  Total(ProductID)  Max(ProductID)  \\\n",
       "0          22.333333   6.625646             134.0            83.0   \n",
       "1         395.500000  70.422596             791.0           790.0   \n",
       "2         102.833333  28.495050             617.0           427.0   \n",
       "3          48.400000  24.287073             242.0           193.0   \n",
       "4          12.166667   3.728530              73.0            47.0   \n",
       "\n",
       "   Min(ProductID)  Mean(ProductID)  Std(ProductID)  time_interval_mean  \\\n",
       "0             0.0         4.620690       15.951744         3655.233083   \n",
       "1             0.0        27.275862      146.692803          247.073418   \n",
       "2             0.0        21.275862       81.644655          709.012987   \n",
       "3             0.0         8.344828       36.013168         1542.630705   \n",
       "4             0.0         2.517241        9.283706         6032.527778   \n",
       "\n",
       "   time_interval_std  \n",
       "0       15011.807565  \n",
       "1        5667.738256  \n",
       "2        9313.850901  \n",
       "3       11664.186647  \n",
       "4       23926.613182  \n",
       "\n",
       "[5 rows x 44 columns]"
      ]
     },
     "execution_count": 52,
     "metadata": {},
     "output_type": "execute_result"
    }
   ],
   "source": [
    "df_test_final = pd.merge(df_test, df_features, on=['FileID'], how='left')\n",
    "df_test_final.head()"
   ]
  },
  {
   "cell_type": "code",
   "execution_count": 53,
   "metadata": {},
   "outputs": [
    {
     "data": {
      "text/html": [
       "<div>\n",
       "<table border=\"1\" class=\"dataframe\">\n",
       "  <thead>\n",
       "    <tr style=\"text-align: right;\">\n",
       "      <th></th>\n",
       "      <th>0374c4</th>\n",
       "      <th>055649</th>\n",
       "      <th>05b409</th>\n",
       "      <th>0cdb7a</th>\n",
       "      <th>20f8a5</th>\n",
       "      <th>218578</th>\n",
       "      <th>262880</th>\n",
       "      <th>26a5d0</th>\n",
       "      <th>3c2be6</th>\n",
       "      <th>3ea8c3</th>\n",
       "      <th>...</th>\n",
       "      <th>Mean(Day)</th>\n",
       "      <th>Mean(Nonzero Day)</th>\n",
       "      <th>Std(Day)</th>\n",
       "      <th>Total(ProductID)</th>\n",
       "      <th>Max(ProductID)</th>\n",
       "      <th>Min(ProductID)</th>\n",
       "      <th>Mean(ProductID)</th>\n",
       "      <th>Std(ProductID)</th>\n",
       "      <th>time_interval_mean</th>\n",
       "      <th>time_interval_std</th>\n",
       "    </tr>\n",
       "  </thead>\n",
       "  <tbody>\n",
       "    <tr>\n",
       "      <th>0</th>\n",
       "      <td>0.0</td>\n",
       "      <td>0.0</td>\n",
       "      <td>0.0</td>\n",
       "      <td>0.0</td>\n",
       "      <td>0.0</td>\n",
       "      <td>0.0</td>\n",
       "      <td>0.0</td>\n",
       "      <td>0.0</td>\n",
       "      <td>0.0</td>\n",
       "      <td>13.0</td>\n",
       "      <td>...</td>\n",
       "      <td>1.456522</td>\n",
       "      <td>22.333333</td>\n",
       "      <td>6.625646</td>\n",
       "      <td>134.0</td>\n",
       "      <td>83.0</td>\n",
       "      <td>0.0</td>\n",
       "      <td>4.620690</td>\n",
       "      <td>15.951744</td>\n",
       "      <td>3655.233083</td>\n",
       "      <td>15011.807565</td>\n",
       "    </tr>\n",
       "    <tr>\n",
       "      <th>1</th>\n",
       "      <td>0.0</td>\n",
       "      <td>0.0</td>\n",
       "      <td>0.0</td>\n",
       "      <td>0.0</td>\n",
       "      <td>0.0</td>\n",
       "      <td>0.0</td>\n",
       "      <td>0.0</td>\n",
       "      <td>0.0</td>\n",
       "      <td>0.0</td>\n",
       "      <td>1.0</td>\n",
       "      <td>...</td>\n",
       "      <td>8.597826</td>\n",
       "      <td>395.500000</td>\n",
       "      <td>70.422596</td>\n",
       "      <td>791.0</td>\n",
       "      <td>790.0</td>\n",
       "      <td>0.0</td>\n",
       "      <td>27.275862</td>\n",
       "      <td>146.692803</td>\n",
       "      <td>247.073418</td>\n",
       "      <td>5667.738256</td>\n",
       "    </tr>\n",
       "    <tr>\n",
       "      <th>2</th>\n",
       "      <td>0.0</td>\n",
       "      <td>64.0</td>\n",
       "      <td>0.0</td>\n",
       "      <td>0.0</td>\n",
       "      <td>0.0</td>\n",
       "      <td>0.0</td>\n",
       "      <td>0.0</td>\n",
       "      <td>0.0</td>\n",
       "      <td>0.0</td>\n",
       "      <td>0.0</td>\n",
       "      <td>...</td>\n",
       "      <td>6.706522</td>\n",
       "      <td>102.833333</td>\n",
       "      <td>28.495050</td>\n",
       "      <td>617.0</td>\n",
       "      <td>427.0</td>\n",
       "      <td>0.0</td>\n",
       "      <td>21.275862</td>\n",
       "      <td>81.644655</td>\n",
       "      <td>709.012987</td>\n",
       "      <td>9313.850901</td>\n",
       "    </tr>\n",
       "    <tr>\n",
       "      <th>3</th>\n",
       "      <td>0.0</td>\n",
       "      <td>32.0</td>\n",
       "      <td>0.0</td>\n",
       "      <td>0.0</td>\n",
       "      <td>4.0</td>\n",
       "      <td>0.0</td>\n",
       "      <td>0.0</td>\n",
       "      <td>1.0</td>\n",
       "      <td>0.0</td>\n",
       "      <td>0.0</td>\n",
       "      <td>...</td>\n",
       "      <td>2.630435</td>\n",
       "      <td>48.400000</td>\n",
       "      <td>24.287073</td>\n",
       "      <td>242.0</td>\n",
       "      <td>193.0</td>\n",
       "      <td>0.0</td>\n",
       "      <td>8.344828</td>\n",
       "      <td>36.013168</td>\n",
       "      <td>1542.630705</td>\n",
       "      <td>11664.186647</td>\n",
       "    </tr>\n",
       "    <tr>\n",
       "      <th>4</th>\n",
       "      <td>0.0</td>\n",
       "      <td>0.0</td>\n",
       "      <td>0.0</td>\n",
       "      <td>0.0</td>\n",
       "      <td>0.0</td>\n",
       "      <td>0.0</td>\n",
       "      <td>0.0</td>\n",
       "      <td>0.0</td>\n",
       "      <td>0.0</td>\n",
       "      <td>0.0</td>\n",
       "      <td>...</td>\n",
       "      <td>0.793478</td>\n",
       "      <td>12.166667</td>\n",
       "      <td>3.728530</td>\n",
       "      <td>73.0</td>\n",
       "      <td>47.0</td>\n",
       "      <td>0.0</td>\n",
       "      <td>2.517241</td>\n",
       "      <td>9.283706</td>\n",
       "      <td>6032.527778</td>\n",
       "      <td>23926.613182</td>\n",
       "    </tr>\n",
       "  </tbody>\n",
       "</table>\n",
       "<p>5 rows × 42 columns</p>\n",
       "</div>"
      ],
      "text/plain": [
       "   0374c4  055649  05b409  0cdb7a  20f8a5  218578  262880  26a5d0  3c2be6  \\\n",
       "0     0.0     0.0     0.0     0.0     0.0     0.0     0.0     0.0     0.0   \n",
       "1     0.0     0.0     0.0     0.0     0.0     0.0     0.0     0.0     0.0   \n",
       "2     0.0    64.0     0.0     0.0     0.0     0.0     0.0     0.0     0.0   \n",
       "3     0.0    32.0     0.0     0.0     4.0     0.0     0.0     1.0     0.0   \n",
       "4     0.0     0.0     0.0     0.0     0.0     0.0     0.0     0.0     0.0   \n",
       "\n",
       "   3ea8c3        ...          Mean(Day)  Mean(Nonzero Day)   Std(Day)  \\\n",
       "0    13.0        ...           1.456522          22.333333   6.625646   \n",
       "1     1.0        ...           8.597826         395.500000  70.422596   \n",
       "2     0.0        ...           6.706522         102.833333  28.495050   \n",
       "3     0.0        ...           2.630435          48.400000  24.287073   \n",
       "4     0.0        ...           0.793478          12.166667   3.728530   \n",
       "\n",
       "   Total(ProductID)  Max(ProductID)  Min(ProductID)  Mean(ProductID)  \\\n",
       "0             134.0            83.0             0.0         4.620690   \n",
       "1             791.0           790.0             0.0        27.275862   \n",
       "2             617.0           427.0             0.0        21.275862   \n",
       "3             242.0           193.0             0.0         8.344828   \n",
       "4              73.0            47.0             0.0         2.517241   \n",
       "\n",
       "   Std(ProductID)  time_interval_mean  time_interval_std  \n",
       "0       15.951744         3655.233083       15011.807565  \n",
       "1      146.692803          247.073418        5667.738256  \n",
       "2       81.644655          709.012987        9313.850901  \n",
       "3       36.013168         1542.630705       11664.186647  \n",
       "4        9.283706         6032.527778       23926.613182  \n",
       "\n",
       "[5 rows x 42 columns]"
      ]
     },
     "execution_count": 53,
     "metadata": {},
     "output_type": "execute_result"
    }
   ],
   "source": [
    "X = df_test_final.iloc[:,2:]\n",
    "X.head()"
   ]
  },
  {
   "cell_type": "code",
   "execution_count": 55,
   "metadata": {},
   "outputs": [
    {
     "data": {
      "text/plain": [
       "array([[ 0.99249595,  0.00750404],\n",
       "       [ 0.42940098,  0.57059902],\n",
       "       [ 0.99873751,  0.00126247],\n",
       "       [ 0.99313211,  0.00686791],\n",
       "       [ 0.98568195,  0.01431803]], dtype=float32)"
      ]
     },
     "execution_count": 55,
     "metadata": {},
     "output_type": "execute_result"
    }
   ],
   "source": [
    "X = np.array(X)\n",
    "y_pred = model.predict_proba(X)\n",
    "y_pred[:5]"
   ]
  },
  {
   "cell_type": "code",
   "execution_count": 56,
   "metadata": {},
   "outputs": [
    {
     "data": {
      "text/html": [
       "<div>\n",
       "<table border=\"1\" class=\"dataframe\">\n",
       "  <thead>\n",
       "    <tr style=\"text-align: right;\">\n",
       "      <th></th>\n",
       "      <th>FileID</th>\n",
       "      <th>Label</th>\n",
       "    </tr>\n",
       "  </thead>\n",
       "  <tbody>\n",
       "    <tr>\n",
       "      <th>0</th>\n",
       "      <td>00008c73ee43c15b16c26b26398c1577</td>\n",
       "      <td>0.007504</td>\n",
       "    </tr>\n",
       "    <tr>\n",
       "      <th>1</th>\n",
       "      <td>0002ded3a0b54f2ffdab0ca77a5ce2b6</td>\n",
       "      <td>0.570599</td>\n",
       "    </tr>\n",
       "    <tr>\n",
       "      <th>2</th>\n",
       "      <td>00050a9df8e13f6ab5a3d3b3e2fc6a86</td>\n",
       "      <td>0.001262</td>\n",
       "    </tr>\n",
       "    <tr>\n",
       "      <th>3</th>\n",
       "      <td>000b1aa62b95e448784b8b341de46c64</td>\n",
       "      <td>0.006868</td>\n",
       "    </tr>\n",
       "    <tr>\n",
       "      <th>4</th>\n",
       "      <td>000d9f96b5eddf04a3b7a37cb95d0a00</td>\n",
       "      <td>0.014318</td>\n",
       "    </tr>\n",
       "  </tbody>\n",
       "</table>\n",
       "</div>"
      ],
      "text/plain": [
       "                             FileID     Label\n",
       "0  00008c73ee43c15b16c26b26398c1577  0.007504\n",
       "1  0002ded3a0b54f2ffdab0ca77a5ce2b6  0.570599\n",
       "2  00050a9df8e13f6ab5a3d3b3e2fc6a86  0.001262\n",
       "3  000b1aa62b95e448784b8b341de46c64  0.006868\n",
       "4  000d9f96b5eddf04a3b7a37cb95d0a00  0.014318"
      ]
     },
     "execution_count": 56,
     "metadata": {},
     "output_type": "execute_result"
    }
   ],
   "source": [
    "df_test['Label'] = y_pred[:,1]\n",
    "df_test.head()"
   ]
  },
  {
   "cell_type": "code",
   "execution_count": 57,
   "metadata": {
    "collapsed": true
   },
   "outputs": [],
   "source": [
    "df_test.to_csv('testing-set.csv', index=False)"
   ]
  },
  {
   "cell_type": "markdown",
   "metadata": {},
   "source": [
    "# Functions"
   ]
  },
  {
   "cell_type": "code",
   "execution_count": 21,
   "metadata": {
    "collapsed": true
   },
   "outputs": [],
   "source": [
    "def time_hist(fileID, delta_time, df):\n",
    "    df_time = df[df.iloc[:,0]==fileID][['QueryTs']]\n",
    "    start_time = int(df_time.iloc[0,0])\n",
    "    end_time   = int(df_time.iloc[-1,0])\n",
    "    bins = [x for x in range(start_time, end_time, delta_time)]\n",
    "    plt.hist(df_time.iloc[:,0], bins=bins)\n",
    "#     plt.xticks(list(np.array(bins) - start_time))\n",
    "    plt.title('FileID: '+fileID)"
   ]
  },
  {
   "cell_type": "code",
   "execution_count": 22,
   "metadata": {},
   "outputs": [
    {
     "data": {
      "image/png": "[encoded data removed]",
      "text/plain": [
       "<matplotlib.figure.Figure at 0x7f576b6a55f8>"
      ]
     },
     "metadata": {},
     "output_type": "display_data"
    }
   ],
   "source": [
    "time_hist('dfccd8e23f0b03ec4db7a9a745ad7399', 60*1000, df_query_log)"
   ]
  },
  {
   "cell_type": "code",
   "execution_count": 52,
   "metadata": {
    "collapsed": true
   },
   "outputs": [],
   "source": [
    "def time_list(fileID, customerID, productID, df):\n",
    "    df_fileID = df.loc[(df['FileID']==fileID) & (df['CustomerID']==customerID) & (df['ProductID']==productID)]['QueryTs']\n",
    "    \n",
    "    result = np.zeros(end_time-start_time+1)\n",
    "    for j in tqdm_notebook(range(len(df_fileID))):\n",
    "        result[df_fileID.iloc[j] - start_time] = 1\n",
    "        \n",
    "    return result"
   ]
  },
  {
   "cell_type": "code",
   "execution_count": 53,
   "metadata": {},
   "outputs": [
    {
     "data": {
      "application/vnd.jupyter.widget-view+json": {
       "model_id": "f7737d2ec0904e2e81f2676af503677e",
       "version_major": 2,
       "version_minor": 0
      },
      "text/html": [
       "<p>Failed to display Jupyter Widget of type <code>HBox</code>.</p>\n",
       "<p>\n",
       "  If you're reading this message in the Jupyter Notebook or JupyterLab Notebook, it may mean\n",
       "  that the widgets JavaScript is still loading. If this message persists, it\n",
       "  likely means that the widgets JavaScript library is either not installed or\n",
       "  not enabled. See the <a href=\"https://ipywidgets.readthedocs.io/en/stable/user_install.html\">Jupyter\n",
       "  Widgets Documentation</a> for setup instructions.\n",
       "</p>\n",
       "<p>\n",
       "  If you're reading this message in another frontend (for example, a static\n",
       "  rendering on GitHub or <a href=\"https://nbviewer.jupyter.org/\">NBViewer</a>),\n",
       "  it may mean that your frontend doesn't currently support widgets.\n",
       "</p>\n"
      ],
      "text/plain": [
       "HBox(children=(IntProgress(value=0, max=922), HTML(value='')))"
      ]
     },
     "metadata": {},
     "output_type": "display_data"
    },
    {
     "name": "stdout",
     "output_type": "stream",
     "text": [
      "\n"
     ]
    }
   ],
   "source": [
    "fileID = 'dfccd8e23f0b03ec4db7a9a745ad7399'\n",
    "customerID = '64573086fcfee53e8fa6d8f1f44101bb'\n",
    "productID = 'c105a0'\n",
    "output = time_list(fileID, customerID, productID, df_query_log)"
   ]
  },
  {
   "cell_type": "code",
   "execution_count": 54,
   "metadata": {},
   "outputs": [
    {
     "data": {
      "text/plain": [
       "array([ 1.,  0.,  0.,  0.,  0.,  0.,  0.,  0.,  0.,  0.,  1.,  0.,  0.,\n",
       "        0.,  0.,  0.,  0.,  0.,  0.,  1.])"
      ]
     },
     "execution_count": 54,
     "metadata": {},
     "output_type": "execute_result"
    }
   ],
   "source": [
    "output[:20]"
   ]
  },
  {
   "cell_type": "code",
   "execution_count": 58,
   "metadata": {
    "collapsed": true
   },
   "outputs": [],
   "source": [
    "def time_list(fileID, customerID, productID, df):\n",
    "    start_time = 1488326402\n",
    "    end_time   = 1496275198\n",
    "    \n",
    "    df_fileID = df.loc[(df.iloc[:,0]==fileID) & (df.iloc[:,1]==customerID) & (df.iloc[:,3]==productID)]['QueryTs']\n",
    "    \n",
    "    result = np.zeros(end_time-start_time+1)\n",
    "    for j in tqdm_notebook(range(len(df_fileID))):\n",
    "        result[df_fileID.iloc[j] - start_time] = 1\n",
    "        \n",
    "    return result"
   ]
  },
  {
   "cell_type": "code",
   "execution_count": 88,
   "metadata": {},
   "outputs": [
    {
     "data": {
      "text/html": [
       "<div>\n",
       "<table border=\"1\" class=\"dataframe\">\n",
       "  <thead>\n",
       "    <tr style=\"text-align: right;\">\n",
       "      <th></th>\n",
       "      <th>FileID</th>\n",
       "      <th>CustomerID</th>\n",
       "      <th>QueryTs</th>\n",
       "      <th>ProductID</th>\n",
       "    </tr>\n",
       "  </thead>\n",
       "  <tbody>\n",
       "    <tr>\n",
       "      <th>0</th>\n",
       "      <td>dfccd8e23f0b03ec4db7a9a745ad7399</td>\n",
       "      <td>64573086fcfee53e8fa6d8f1f44101bb</td>\n",
       "      <td>1488326402</td>\n",
       "      <td>c105a0</td>\n",
       "    </tr>\n",
       "    <tr>\n",
       "      <th>5</th>\n",
       "      <td>dfccd8e23f0b03ec4db7a9a745ad7399</td>\n",
       "      <td>64573086fcfee53e8fa6d8f1f44101bb</td>\n",
       "      <td>1488326412</td>\n",
       "      <td>c105a0</td>\n",
       "    </tr>\n",
       "    <tr>\n",
       "      <th>23</th>\n",
       "      <td>dfccd8e23f0b03ec4db7a9a745ad7399</td>\n",
       "      <td>64573086fcfee53e8fa6d8f1f44101bb</td>\n",
       "      <td>1488326421</td>\n",
       "      <td>c105a0</td>\n",
       "    </tr>\n",
       "    <tr>\n",
       "      <th>37</th>\n",
       "      <td>dfccd8e23f0b03ec4db7a9a745ad7399</td>\n",
       "      <td>64573086fcfee53e8fa6d8f1f44101bb</td>\n",
       "      <td>1488326431</td>\n",
       "      <td>c105a0</td>\n",
       "    </tr>\n",
       "    <tr>\n",
       "      <th>39</th>\n",
       "      <td>dfccd8e23f0b03ec4db7a9a745ad7399</td>\n",
       "      <td>64573086fcfee53e8fa6d8f1f44101bb</td>\n",
       "      <td>1488326441</td>\n",
       "      <td>c105a0</td>\n",
       "    </tr>\n",
       "    <tr>\n",
       "      <th>43</th>\n",
       "      <td>dfccd8e23f0b03ec4db7a9a745ad7399</td>\n",
       "      <td>64573086fcfee53e8fa6d8f1f44101bb</td>\n",
       "      <td>1488326451</td>\n",
       "      <td>c105a0</td>\n",
       "    </tr>\n",
       "    <tr>\n",
       "      <th>50</th>\n",
       "      <td>dfccd8e23f0b03ec4db7a9a745ad7399</td>\n",
       "      <td>64573086fcfee53e8fa6d8f1f44101bb</td>\n",
       "      <td>1488326461</td>\n",
       "      <td>c105a0</td>\n",
       "    </tr>\n",
       "    <tr>\n",
       "      <th>53</th>\n",
       "      <td>dfccd8e23f0b03ec4db7a9a745ad7399</td>\n",
       "      <td>64573086fcfee53e8fa6d8f1f44101bb</td>\n",
       "      <td>1488326472</td>\n",
       "      <td>c105a0</td>\n",
       "    </tr>\n",
       "    <tr>\n",
       "      <th>62</th>\n",
       "      <td>dfccd8e23f0b03ec4db7a9a745ad7399</td>\n",
       "      <td>64573086fcfee53e8fa6d8f1f44101bb</td>\n",
       "      <td>1488326482</td>\n",
       "      <td>c105a0</td>\n",
       "    </tr>\n",
       "    <tr>\n",
       "      <th>65</th>\n",
       "      <td>dfccd8e23f0b03ec4db7a9a745ad7399</td>\n",
       "      <td>64573086fcfee53e8fa6d8f1f44101bb</td>\n",
       "      <td>1488326491</td>\n",
       "      <td>c105a0</td>\n",
       "    </tr>\n",
       "    <tr>\n",
       "      <th>68</th>\n",
       "      <td>dfccd8e23f0b03ec4db7a9a745ad7399</td>\n",
       "      <td>64573086fcfee53e8fa6d8f1f44101bb</td>\n",
       "      <td>1488326502</td>\n",
       "      <td>c105a0</td>\n",
       "    </tr>\n",
       "    <tr>\n",
       "      <th>70</th>\n",
       "      <td>dfccd8e23f0b03ec4db7a9a745ad7399</td>\n",
       "      <td>64573086fcfee53e8fa6d8f1f44101bb</td>\n",
       "      <td>1488326512</td>\n",
       "      <td>c105a0</td>\n",
       "    </tr>\n",
       "    <tr>\n",
       "      <th>73</th>\n",
       "      <td>dfccd8e23f0b03ec4db7a9a745ad7399</td>\n",
       "      <td>64573086fcfee53e8fa6d8f1f44101bb</td>\n",
       "      <td>1488326522</td>\n",
       "      <td>c105a0</td>\n",
       "    </tr>\n",
       "    <tr>\n",
       "      <th>75</th>\n",
       "      <td>dfccd8e23f0b03ec4db7a9a745ad7399</td>\n",
       "      <td>64573086fcfee53e8fa6d8f1f44101bb</td>\n",
       "      <td>1488326532</td>\n",
       "      <td>c105a0</td>\n",
       "    </tr>\n",
       "    <tr>\n",
       "      <th>77</th>\n",
       "      <td>dfccd8e23f0b03ec4db7a9a745ad7399</td>\n",
       "      <td>64573086fcfee53e8fa6d8f1f44101bb</td>\n",
       "      <td>1488326542</td>\n",
       "      <td>c105a0</td>\n",
       "    </tr>\n",
       "    <tr>\n",
       "      <th>82</th>\n",
       "      <td>dfccd8e23f0b03ec4db7a9a745ad7399</td>\n",
       "      <td>64573086fcfee53e8fa6d8f1f44101bb</td>\n",
       "      <td>1488326552</td>\n",
       "      <td>c105a0</td>\n",
       "    </tr>\n",
       "    <tr>\n",
       "      <th>83</th>\n",
       "      <td>dfccd8e23f0b03ec4db7a9a745ad7399</td>\n",
       "      <td>64573086fcfee53e8fa6d8f1f44101bb</td>\n",
       "      <td>1488326562</td>\n",
       "      <td>c105a0</td>\n",
       "    </tr>\n",
       "    <tr>\n",
       "      <th>87</th>\n",
       "      <td>dfccd8e23f0b03ec4db7a9a745ad7399</td>\n",
       "      <td>64573086fcfee53e8fa6d8f1f44101bb</td>\n",
       "      <td>1488326572</td>\n",
       "      <td>c105a0</td>\n",
       "    </tr>\n",
       "    <tr>\n",
       "      <th>90</th>\n",
       "      <td>dfccd8e23f0b03ec4db7a9a745ad7399</td>\n",
       "      <td>64573086fcfee53e8fa6d8f1f44101bb</td>\n",
       "      <td>1488326582</td>\n",
       "      <td>c105a0</td>\n",
       "    </tr>\n",
       "    <tr>\n",
       "      <th>93</th>\n",
       "      <td>dfccd8e23f0b03ec4db7a9a745ad7399</td>\n",
       "      <td>64573086fcfee53e8fa6d8f1f44101bb</td>\n",
       "      <td>1488326592</td>\n",
       "      <td>c105a0</td>\n",
       "    </tr>\n",
       "  </tbody>\n",
       "</table>\n",
       "</div>"
      ],
      "text/plain": [
       "                              FileID                        CustomerID  \\\n",
       "0   dfccd8e23f0b03ec4db7a9a745ad7399  64573086fcfee53e8fa6d8f1f44101bb   \n",
       "5   dfccd8e23f0b03ec4db7a9a745ad7399  64573086fcfee53e8fa6d8f1f44101bb   \n",
       "23  dfccd8e23f0b03ec4db7a9a745ad7399  64573086fcfee53e8fa6d8f1f44101bb   \n",
       "37  dfccd8e23f0b03ec4db7a9a745ad7399  64573086fcfee53e8fa6d8f1f44101bb   \n",
       "39  dfccd8e23f0b03ec4db7a9a745ad7399  64573086fcfee53e8fa6d8f1f44101bb   \n",
       "43  dfccd8e23f0b03ec4db7a9a745ad7399  64573086fcfee53e8fa6d8f1f44101bb   \n",
       "50  dfccd8e23f0b03ec4db7a9a745ad7399  64573086fcfee53e8fa6d8f1f44101bb   \n",
       "53  dfccd8e23f0b03ec4db7a9a745ad7399  64573086fcfee53e8fa6d8f1f44101bb   \n",
       "62  dfccd8e23f0b03ec4db7a9a745ad7399  64573086fcfee53e8fa6d8f1f44101bb   \n",
       "65  dfccd8e23f0b03ec4db7a9a745ad7399  64573086fcfee53e8fa6d8f1f44101bb   \n",
       "68  dfccd8e23f0b03ec4db7a9a745ad7399  64573086fcfee53e8fa6d8f1f44101bb   \n",
       "70  dfccd8e23f0b03ec4db7a9a745ad7399  64573086fcfee53e8fa6d8f1f44101bb   \n",
       "73  dfccd8e23f0b03ec4db7a9a745ad7399  64573086fcfee53e8fa6d8f1f44101bb   \n",
       "75  dfccd8e23f0b03ec4db7a9a745ad7399  64573086fcfee53e8fa6d8f1f44101bb   \n",
       "77  dfccd8e23f0b03ec4db7a9a745ad7399  64573086fcfee53e8fa6d8f1f44101bb   \n",
       "82  dfccd8e23f0b03ec4db7a9a745ad7399  64573086fcfee53e8fa6d8f1f44101bb   \n",
       "83  dfccd8e23f0b03ec4db7a9a745ad7399  64573086fcfee53e8fa6d8f1f44101bb   \n",
       "87  dfccd8e23f0b03ec4db7a9a745ad7399  64573086fcfee53e8fa6d8f1f44101bb   \n",
       "90  dfccd8e23f0b03ec4db7a9a745ad7399  64573086fcfee53e8fa6d8f1f44101bb   \n",
       "93  dfccd8e23f0b03ec4db7a9a745ad7399  64573086fcfee53e8fa6d8f1f44101bb   \n",
       "\n",
       "       QueryTs ProductID  \n",
       "0   1488326402    c105a0  \n",
       "5   1488326412    c105a0  \n",
       "23  1488326421    c105a0  \n",
       "37  1488326431    c105a0  \n",
       "39  1488326441    c105a0  \n",
       "43  1488326451    c105a0  \n",
       "50  1488326461    c105a0  \n",
       "53  1488326472    c105a0  \n",
       "62  1488326482    c105a0  \n",
       "65  1488326491    c105a0  \n",
       "68  1488326502    c105a0  \n",
       "70  1488326512    c105a0  \n",
       "73  1488326522    c105a0  \n",
       "75  1488326532    c105a0  \n",
       "77  1488326542    c105a0  \n",
       "82  1488326552    c105a0  \n",
       "83  1488326562    c105a0  \n",
       "87  1488326572    c105a0  \n",
       "90  1488326582    c105a0  \n",
       "93  1488326592    c105a0  "
      ]
     },
     "execution_count": 88,
     "metadata": {},
     "output_type": "execute_result"
    }
   ],
   "source": [
    "fileID = 'dfccd8e23f0b03ec4db7a9a745ad7399'\n",
    "df_query_log.loc[df_query_log['FileID']==fileID].head()"
   ]
  },
  {
   "cell_type": "code",
   "execution_count": 90,
   "metadata": {},
   "outputs": [
    {
     "data": {
      "application/vnd.jupyter.widget-view+json": {
       "model_id": "8a2618d00c8a42aba0bd141a854d3382",
       "version_major": 2,
       "version_minor": 0
      },
      "text/html": [
       "<p>Failed to display Jupyter Widget of type <code>HBox</code>.</p>\n",
       "<p>\n",
       "  If you're reading this message in the Jupyter Notebook or JupyterLab Notebook, it may mean\n",
       "  that the widgets JavaScript is still loading. If this message persists, it\n",
       "  likely means that the widgets JavaScript library is either not installed or\n",
       "  not enabled. See the <a href=\"https://ipywidgets.readthedocs.io/en/stable/user_install.html\">Jupyter\n",
       "  Widgets Documentation</a> for setup instructions.\n",
       "</p>\n",
       "<p>\n",
       "  If you're reading this message in another frontend (for example, a static\n",
       "  rendering on GitHub or <a href=\"https://nbviewer.jupyter.org/\">NBViewer</a>),\n",
       "  it may mean that your frontend doesn't currently support widgets.\n",
       "</p>\n"
      ],
      "text/plain": [
       "HBox(children=(IntProgress(value=0, max=922), HTML(value='')))"
      ]
     },
     "metadata": {},
     "output_type": "display_data"
    },
    {
     "name": "stdout",
     "output_type": "stream",
     "text": [
      "\n"
     ]
    },
    {
     "data": {
      "text/plain": [
       "[<matplotlib.lines.Line2D at 0x7fc241253fd0>]"
      ]
     },
     "execution_count": 90,
     "metadata": {},
     "output_type": "execute_result"
    },
    {
     "data": {
      "image/png": "[encoded data removed]",
      "text/plain": [
       "<matplotlib.figure.Figure at 0x7fc2331a8080>"
      ]
     },
     "metadata": {},
     "output_type": "display_data"
    }
   ],
   "source": [
    "# label is 0 - case 1\n",
    "\n",
    "fileID = 'dfccd8e23f0b03ec4db7a9a745ad7399'\n",
    "customerID = '64573086fcfee53e8fa6d8f1f44101bb'\n",
    "productID = 'c105a0'\n",
    "output = time_list(fileID, customerID, productID, df_query_log)\n",
    "\n",
    "from numpy.fft import fft\n",
    "plt.plot(abs(fft(output)))"
   ]
  },
  {
   "cell_type": "code",
   "execution_count": 93,
   "metadata": {},
   "outputs": [
    {
     "data": {
      "application/vnd.jupyter.widget-view+json": {
       "model_id": "41f83eb2d267425499958bbc6bdf9dcd",
       "version_major": 2,
       "version_minor": 0
      },
      "text/html": [
       "<p>Failed to display Jupyter Widget of type <code>HBox</code>.</p>\n",
       "<p>\n",
       "  If you're reading this message in the Jupyter Notebook or JupyterLab Notebook, it may mean\n",
       "  that the widgets JavaScript is still loading. If this message persists, it\n",
       "  likely means that the widgets JavaScript library is either not installed or\n",
       "  not enabled. See the <a href=\"https://ipywidgets.readthedocs.io/en/stable/user_install.html\">Jupyter\n",
       "  Widgets Documentation</a> for setup instructions.\n",
       "</p>\n",
       "<p>\n",
       "  If you're reading this message in another frontend (for example, a static\n",
       "  rendering on GitHub or <a href=\"https://nbviewer.jupyter.org/\">NBViewer</a>),\n",
       "  it may mean that your frontend doesn't currently support widgets.\n",
       "</p>\n"
      ],
      "text/plain": [
       "HBox(children=(IntProgress(value=0, max=1422), HTML(value='')))"
      ]
     },
     "metadata": {},
     "output_type": "display_data"
    },
    {
     "name": "stdout",
     "output_type": "stream",
     "text": [
      "\n"
     ]
    },
    {
     "data": {
      "text/plain": [
       "[<matplotlib.lines.Line2D at 0x7fc18073b588>]"
      ]
     },
     "execution_count": 93,
     "metadata": {},
     "output_type": "execute_result"
    },
    {
     "data": {
      "image/png": "[encoded data removed]",
      "text/plain": [
       "<matplotlib.figure.Figure at 0x7fc1a723e208>"
      ]
     },
     "metadata": {},
     "output_type": "display_data"
    }
   ],
   "source": [
    "# label is 0 - case 2\n",
    "\n",
    "fileID = '29962f9102502ee76bb3cddb8cf8c9ad'\n",
    "customerID = '597df153a25e8e548cbe35f6e4da9cbb'\n",
    "productID = 'c105a0'\n",
    "output = time_list(fileID, customerID, productID, df_query_log)\n",
    "\n",
    "plt.plot(abs(fft(output)))"
   ]
  },
  {
   "cell_type": "code",
   "execution_count": 85,
   "metadata": {},
   "outputs": [
    {
     "data": {
      "application/vnd.jupyter.widget-view+json": {
       "model_id": "8c82225c0b6a43d9a464265d24b9d268",
       "version_major": 2,
       "version_minor": 0
      },
      "text/html": [
       "<p>Failed to display Jupyter Widget of type <code>HBox</code>.</p>\n",
       "<p>\n",
       "  If you're reading this message in the Jupyter Notebook or JupyterLab Notebook, it may mean\n",
       "  that the widgets JavaScript is still loading. If this message persists, it\n",
       "  likely means that the widgets JavaScript library is either not installed or\n",
       "  not enabled. See the <a href=\"https://ipywidgets.readthedocs.io/en/stable/user_install.html\">Jupyter\n",
       "  Widgets Documentation</a> for setup instructions.\n",
       "</p>\n",
       "<p>\n",
       "  If you're reading this message in another frontend (for example, a static\n",
       "  rendering on GitHub or <a href=\"https://nbviewer.jupyter.org/\">NBViewer</a>),\n",
       "  it may mean that your frontend doesn't currently support widgets.\n",
       "</p>\n"
      ],
      "text/plain": [
       "HBox(children=(IntProgress(value=0, max=48), HTML(value='')))"
      ]
     },
     "metadata": {},
     "output_type": "display_data"
    },
    {
     "name": "stdout",
     "output_type": "stream",
     "text": [
      "\n"
     ]
    },
    {
     "data": {
      "text/plain": [
       "[<matplotlib.lines.Line2D at 0x7fc2497822e8>]"
      ]
     },
     "execution_count": 85,
     "metadata": {},
     "output_type": "execute_result"
    },
    {
     "data": {
      "image/png": "[encoded data removed]",
      "text/plain": [
       "<matplotlib.figure.Figure at 0x7fc2112f6390>"
      ]
     },
     "metadata": {},
     "output_type": "display_data"
    }
   ],
   "source": [
    "# label is 1 - case 1\n",
    "\n",
    "fileID = '0005e4c0263f52453438ddd0d55aef82'\n",
    "customerID = 'acbc75a1133d045877136fde7be7222b'\n",
    "productID = '7acab3'\n",
    "output = time_list(fileID, customerID, productID, df_query_log)\n",
    "\n",
    "plt.plot(abs(fft(output)))"
   ]
  },
  {
   "cell_type": "code",
   "execution_count": 95,
   "metadata": {},
   "outputs": [
    {
     "data": {
      "application/vnd.jupyter.widget-view+json": {
       "model_id": "be91d552bb4d4c928d3c9eb736ba26b1",
       "version_major": 2,
       "version_minor": 0
      },
      "text/html": [
       "<p>Failed to display Jupyter Widget of type <code>HBox</code>.</p>\n",
       "<p>\n",
       "  If you're reading this message in the Jupyter Notebook or JupyterLab Notebook, it may mean\n",
       "  that the widgets JavaScript is still loading. If this message persists, it\n",
       "  likely means that the widgets JavaScript library is either not installed or\n",
       "  not enabled. See the <a href=\"https://ipywidgets.readthedocs.io/en/stable/user_install.html\">Jupyter\n",
       "  Widgets Documentation</a> for setup instructions.\n",
       "</p>\n",
       "<p>\n",
       "  If you're reading this message in another frontend (for example, a static\n",
       "  rendering on GitHub or <a href=\"https://nbviewer.jupyter.org/\">NBViewer</a>),\n",
       "  it may mean that your frontend doesn't currently support widgets.\n",
       "</p>\n"
      ],
      "text/plain": [
       "HBox(children=(IntProgress(value=0, max=3), HTML(value='')))"
      ]
     },
     "metadata": {},
     "output_type": "display_data"
    },
    {
     "name": "stdout",
     "output_type": "stream",
     "text": [
      "\n"
     ]
    },
    {
     "data": {
      "text/plain": [
       "[<matplotlib.lines.Line2D at 0x7fc19ab28d68>]"
      ]
     },
     "execution_count": 95,
     "metadata": {},
     "output_type": "execute_result"
    },
    {
     "data": {
      "image/png": "[encoded data removed]",
      "text/plain": [
       "<matplotlib.figure.Figure at 0x7fc2139cb940>"
      ]
     },
     "metadata": {},
     "output_type": "display_data"
    }
   ],
   "source": [
    "# label is 1 - case 2\n",
    "\n",
    "fileID = '00117b31bd107c43123c8a0180dc036c'\n",
    "customerID = '0f20dc11f6009e3855301c94af0467ea'\n",
    "productID = 'c76d58'\n",
    "output = time_list(fileID, customerID, productID, df_query_log)\n",
    "\n",
    "plt.plot(abs(fft(output)))"
   ]
  },
  {
   "cell_type": "markdown",
   "metadata": {},
   "source": [
    "# Appendix"
   ]
  },
  {
   "cell_type": "markdown",
   "metadata": {},
   "source": [
    "### 1. get spicifit index values"
   ]
  },
  {
   "cell_type": "code",
   "execution_count": 12,
   "metadata": {},
   "outputs": [
    {
     "data": {
      "text/plain": [
       "array([   0,    5,   23,   37,   39,   43,   50,   53,   62,   65,   68,\n",
       "         70,   73,   75,   77,   82,   83,   87,   90,   93,   97,   99,\n",
       "        100,  103,  107,  110,  116,  126,  129,  133,  137,  140,  143,\n",
       "        146,  148,  152,  154,  156,  159,  162,  167,  169,  173,  175,\n",
       "        177,  181,  182,  185,  191,  196,  200,  205,  210,  213,  217,\n",
       "        220,  222,  224,  225,  229,  235,  241,  247,  249,  253,  256,\n",
       "        261,  267,  271,  273,  276,  280,  286,  288,  291,  293,  296,\n",
       "        298,  303,  307,  313,  317,  324,  327,  333,  338,  343,  348,\n",
       "        352,  355,  360,  362,  370,  373,  382,  386,  392,  395,  401,\n",
       "        408,  413,  416,  419,  420,  423,  427,  431,  437,  443,  448,\n",
       "        452,  456,  462,  466,  472,  475,  478,  480,  481,  484,  488,\n",
       "        493,  496,  498,  502,  504,  510,  513,  519,  520,  522,  525,\n",
       "        529,  531,  534,  539,  542,  545,  549,  555,  559,  561,  565,\n",
       "        569,  573,  576,  579,  583,  586,  590,  595,  601,  604,  607,\n",
       "        611,  614,  617,  619,  624,  626,  629,  633,  636,  642,  647,\n",
       "        651,  653,  659,  661,  666,  667,  670,  672,  674,  675,  676,\n",
       "        680,  681,  684,  685,  690,  695,  701,  704,  708,  710,  714,\n",
       "        718,  725,  728,  733,  737,  740,  745,  752,  755,  759,  848,\n",
       "        874,  881,  887,  893,  902,  904,  910,  917,  934,  938,  941,\n",
       "        944,  949,  952,  956,  962,  965,  971,  977,  979,  984,  986,\n",
       "        991,  993,  997, 1001, 1008, 1011, 1015, 1019, 1027, 1030, 1033,\n",
       "       1035, 1039, 1042, 1046, 1049, 1053, 1054, 1056, 1058, 1061, 1062,\n",
       "       1066, 1070, 1075, 1078, 1081, 1082, 1089, 1091, 1095, 1099, 1103,\n",
       "       1106, 1108, 1111, 1116, 1119, 1125, 1130, 1134, 1137, 1140, 1145,\n",
       "       1153, 1157, 1159, 1161, 1165, 1166, 1171, 1177, 1180, 1187, 1189,\n",
       "       1191, 1194, 1198, 1200, 1203, 1206, 1209, 1214, 1219, 1222, 1224,\n",
       "       1228, 1231, 1236, 1240, 1241, 1246, 1247, 1251, 1257, 1259, 1267,\n",
       "       1271, 1275, 1277, 1280, 1285, 1294, 1301, 1306, 1309, 1314, 1316,\n",
       "       1322, 1324, 1328, 1333, 1342, 1347, 1352, 1357, 1360, 1365, 1371,\n",
       "       1373, 1376, 1379, 1383, 1385, 1390, 1393, 1397, 1401, 1403, 1417,\n",
       "       1420, 1424, 1427, 1429, 1433, 1435, 1438, 1442, 1448, 1463, 1485,\n",
       "       1500, 1509, 1522, 1534, 1549, 1558, 1564, 1566, 1570, 1578, 1581,\n",
       "       1590, 1594, 1599, 1603, 1607, 1609, 1611, 1620, 1627, 1629, 1632,\n",
       "       1633, 1638, 1640, 1648, 1651, 1655, 1657, 1662, 1663, 1666, 1670,\n",
       "       1675, 1677, 1684, 1686, 1691, 1694, 1698, 1701, 1706, 1708, 1711,\n",
       "       1712, 1717, 1720, 1723, 1726, 1729, 1732, 1741, 1744, 1747, 1751,\n",
       "       1756, 1760, 1762, 1768, 1774, 1778, 1781, 1783, 1785, 1790, 1794,\n",
       "       1796, 1800, 1802, 1809, 1812, 1816, 1818, 1822, 1825, 1827, 1829,\n",
       "       1836, 1841, 1844, 1845, 1851, 1854, 1857, 1859, 1860, 1862, 1864,\n",
       "       1869, 1874, 1877, 1881, 1886, 1889, 1892, 1894, 1898, 1899, 1906,\n",
       "       1909, 1912, 1917, 1919, 1920, 1921, 1923, 1926, 1930, 1933, 1937,\n",
       "       1938, 1942, 1943, 1946, 1949, 1950, 1952, 1954, 1957, 1970, 1975,\n",
       "       1979, 1982, 1985, 1990, 1996, 2002, 2005, 2008, 2017, 2021, 2024,\n",
       "       2026, 2031, 2038, 2043, 2045, 2048, 2053, 2061, 2068, 2070, 2077,\n",
       "       2079, 2082, 2086, 2090, 2092, 2101, 2104, 2109, 2111, 2116, 2118,\n",
       "       2122, 2124, 2128, 2133, 2134, 2136, 2137, 2140, 2144, 2151, 2159,\n",
       "       2163, 2165, 2170, 2173, 2180, 2182, 2185, 2189, 2191, 2194, 2197,\n",
       "       2199, 2202, 2204, 2207, 2208, 2211, 2224, 2229, 2243, 2249, 2253,\n",
       "       2257, 2259, 2263, 2264, 2265, 2268, 2271, 2273, 2275, 2276, 2278,\n",
       "       2279, 2282, 2284, 2290, 2294, 2298, 2303, 2327, 2338, 2343, 2346,\n",
       "       2350, 2353, 2356, 2358, 2362, 2366, 2370, 2372, 2375, 2379, 2382,\n",
       "       2388, 2392, 2394, 2395, 2398, 2401, 2402, 2410, 2414, 2416, 2417,\n",
       "       2485, 2487, 2488, 2492, 2496, 2501, 2503, 2505, 2510, 2513, 2516,\n",
       "       2520, 2525, 2527, 2528, 2530, 2534, 2536, 2541, 2542, 2544, 2550,\n",
       "       2552, 2556, 2559, 2560, 2561, 2565, 2567, 2572, 2573, 2577, 2581,\n",
       "       2586, 2589, 2595, 2598, 2599, 2602, 2605, 2606, 2612, 2614, 2619,\n",
       "       2621, 2624, 2625, 2628, 2629, 2630, 2634, 2636, 2640, 2642, 2645,\n",
       "       2650, 2651, 2653, 2656, 2659, 2660, 2661, 2664, 2667, 2675, 2678,\n",
       "       2683, 2685, 2688, 2694, 2700, 2703, 2705, 2708, 2709, 2711, 2713,\n",
       "       2716, 2717, 2719, 2721, 2724, 2727, 2729, 2737, 2744, 2747, 2749,\n",
       "       2753, 2756, 2757, 2758, 2761, 2763, 2766, 2769, 2771, 2773, 2777,\n",
       "       2782, 2785, 2789, 2793, 2795, 2798, 2800, 2804, 2808, 2812, 2815,\n",
       "       2823, 2826, 2831, 2833, 2834, 2837, 2838, 2841, 2843, 2850, 2851,\n",
       "       2854, 2858, 2864, 2868, 2870, 2873, 2879, 2881, 2886, 2888, 2889,\n",
       "       2892, 2896, 2902, 2904, 2905, 2908, 2910, 2916, 2922, 2928, 2930,\n",
       "       2934, 2937, 2942, 2946, 2949, 2950, 2952, 2957, 2960, 2963, 2966,\n",
       "       2970, 2976, 2981, 2989, 2999, 3001, 3004, 3007, 3010, 3013, 3015,\n",
       "       3016, 3018, 3021, 3025, 3031, 3034, 3038, 3042, 3046, 3047, 3050,\n",
       "       3052, 3056, 3064, 3066, 3072, 3076, 3080, 3081, 3083, 3086, 3088,\n",
       "       3092, 3096, 3101, 3103, 3106, 3108, 3110, 3112, 3113, 3116, 3119,\n",
       "       3124, 3129, 3131, 3136, 3138, 3143, 3145, 3149, 3153, 3156, 3160,\n",
       "       3164, 3165, 3171, 3174, 3177, 3179, 3183, 3187, 3189, 3190, 3195,\n",
       "       3201, 3213, 3217, 3224, 3226, 3232, 3236, 3239, 3241, 3243, 3246,\n",
       "       3250, 3251, 3254, 3257, 3263, 3268, 3273, 3278, 3282, 3287, 3295,\n",
       "       3298, 3300, 3302, 3311, 3313, 3314, 3317, 3319, 3325, 3366, 3382,\n",
       "       3385, 3393, 3397, 3402, 3409, 3413, 3423, 3431, 3433, 3437, 3438,\n",
       "       3443, 3448, 3453, 3457, 3460, 3464, 3465, 3472, 3478, 3484, 3488,\n",
       "       3492, 3494, 3496, 3499, 3502, 3505, 3507, 3510, 3513, 3515, 3520,\n",
       "       3524, 3527, 3532, 3533, 3535, 3539, 3543, 3544, 3545, 3547, 3554,\n",
       "       3558, 3561, 3566, 3568, 3572, 3574, 3575, 3583, 3585, 3586, 3587,\n",
       "       3591, 3594, 3599, 3601, 3603, 3606, 3610, 3613, 3618, 3620, 3623,\n",
       "       3625, 3627, 3632, 3634, 3636, 3639, 3640, 3645, 3649, 3652, 3655,\n",
       "       3657, 3663, 3667, 3670, 3673, 3676, 3678, 3679, 3681, 3685, 3687,\n",
       "       3688, 3690, 3692, 3695, 3699, 3702, 3705, 3710, 3713, 3727, 3799,\n",
       "       3816, 3965])"
      ]
     },
     "execution_count": 12,
     "metadata": {},
     "output_type": "execute_result"
    }
   ],
   "source": [
    "df.loc[df_query_log['FileID']=='dfccd8e23f0b03ec4db7a9a745ad7399'].index.values"
   ]
  },
  {
   "cell_type": "markdown",
   "metadata": {},
   "source": [
    "df.loc[]\n",
    "df[]"
   ]
  },
  {
   "cell_type": "code",
   "execution_count": null,
   "metadata": {
    "collapsed": true
   },
   "outputs": [],
   "source": []
  }
 ],
 "metadata": {
  "kernelspec": {
   "display_name": "Python 3",
   "language": "python",
   "name": "python3"
  },
  "language_info": {
   "codemirror_mode": {
    "name": "ipython",
    "version": 3
   },
   "file_extension": ".py",
   "mimetype": "text/x-python",
   "name": "python",
   "nbconvert_exporter": "python",
   "pygments_lexer": "ipython3",
   "version": "3.6.2"
  }
 },
 "nbformat": 4,
 "nbformat_minor": 2
}
